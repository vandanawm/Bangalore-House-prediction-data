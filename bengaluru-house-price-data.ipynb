{
 "cells": [
  {
   "cell_type": "raw",
   "id": "d90f3357",
   "metadata": {
    "_cell_guid": "b1076dfc-b9ad-4769-8c92-a6c4dae69d19",
    "_uuid": "8f2839f25d086af736a60e9eeb907d3b93b6e0e5",
    "papermill": {
     "duration": 0.018022,
     "end_time": "2023-02-09T14:21:05.767317",
     "exception": false,
     "start_time": "2023-02-09T14:21:05.749295",
     "status": "completed"
    },
    "tags": []
   },
   "source": [
    "# This Python 3 environment comes with many helpful analytics libraries installed\n",
    "# It is defined by the kaggle/python Docker image: https://github.com/kaggle/docker-python\n",
    "# For example, here's several helpful packages to load\n",
    "\n",
    "import numpy as np # linear algebra\n",
    "import pandas as pd # data processing, CSV file I/O (e.g. pd.read_csv)\n",
    "\n",
    "# Input data files are available in the read-only \"../input/\" directory\n",
    "# For example, running this (by clicking run or pressing Shift+Enter) will list all files under the input directory\n",
    "\n",
    "import os\n",
    "for dirname, _, filenames in os.walk('/kaggle/input'):\n",
    "    for filename in filenames:\n",
    "        print(os.path.join(dirname, filename))\n",
    "\n",
    "# You can write up to 20GB to the current directory (/kaggle/working/) that gets preserved as output when you create a version using \"Save & Run All\" \n",
    "# You can also write temporary files to /kaggle/temp/, but they won't be saved outside of the current session"
   ]
  },
  {
   "cell_type": "code",
   "execution_count": 1,
   "id": "f4bc861b",
   "metadata": {
    "execution": {
     "iopub.execute_input": "2023-02-09T14:21:05.804855Z",
     "iopub.status.busy": "2023-02-09T14:21:05.803542Z",
     "iopub.status.idle": "2023-02-09T14:21:05.829594Z",
     "shell.execute_reply": "2023-02-09T14:21:05.828600Z"
    },
    "papermill": {
     "duration": 0.047302,
     "end_time": "2023-02-09T14:21:05.832735",
     "exception": false,
     "start_time": "2023-02-09T14:21:05.785433",
     "status": "completed"
    },
    "tags": []
   },
   "outputs": [
    {
     "name": "stdout",
     "output_type": "stream",
     "text": [
      "/kaggle/input/bengaluru-house-price-data/Bengaluru_House_Data.csv\n"
     ]
    }
   ],
   "source": [
    "import os\n",
    "for dirname, _, filenames in os.walk('/kaggle/input'):\n",
    "    for filename in filenames:\n",
    "        print(os.path.join(dirname, filename))\n"
   ]
  },
  {
   "cell_type": "markdown",
   "id": "15ba0093",
   "metadata": {
    "papermill": {
     "duration": 0.015455,
     "end_time": "2023-02-09T14:21:05.864914",
     "exception": false,
     "start_time": "2023-02-09T14:21:05.849459",
     "status": "completed"
    },
    "tags": []
   },
   "source": [
    "Importing Necessary Libraries"
   ]
  },
  {
   "cell_type": "code",
   "execution_count": 2,
   "id": "f1da3d10",
   "metadata": {
    "execution": {
     "iopub.execute_input": "2023-02-09T14:21:05.898695Z",
     "iopub.status.busy": "2023-02-09T14:21:05.898192Z",
     "iopub.status.idle": "2023-02-09T14:21:05.904480Z",
     "shell.execute_reply": "2023-02-09T14:21:05.903278Z"
    },
    "papermill": {
     "duration": 0.025994,
     "end_time": "2023-02-09T14:21:05.906756",
     "exception": false,
     "start_time": "2023-02-09T14:21:05.880762",
     "status": "completed"
    },
    "tags": []
   },
   "outputs": [],
   "source": [
    "import numpy as np\n",
    "import pandas as pd\n",
    "import matplotlib.pyplot as plt\n",
    "%matplotlib inline"
   ]
  },
  {
   "cell_type": "markdown",
   "id": "28469891",
   "metadata": {
    "papermill": {
     "duration": 0.015459,
     "end_time": "2023-02-09T14:21:05.938095",
     "exception": false,
     "start_time": "2023-02-09T14:21:05.922636",
     "status": "completed"
    },
    "tags": []
   },
   "source": [
    "Load Data"
   ]
  },
  {
   "cell_type": "code",
   "execution_count": 3,
   "id": "74bdfc5c",
   "metadata": {
    "execution": {
     "iopub.execute_input": "2023-02-09T14:21:05.971181Z",
     "iopub.status.busy": "2023-02-09T14:21:05.970754Z",
     "iopub.status.idle": "2023-02-09T14:21:06.053964Z",
     "shell.execute_reply": "2023-02-09T14:21:06.053076Z"
    },
    "papermill": {
     "duration": 0.10277,
     "end_time": "2023-02-09T14:21:06.056461",
     "exception": false,
     "start_time": "2023-02-09T14:21:05.953691",
     "status": "completed"
    },
    "tags": []
   },
   "outputs": [
    {
     "data": {
      "text/html": [
       "<div>\n",
       "<style scoped>\n",
       "    .dataframe tbody tr th:only-of-type {\n",
       "        vertical-align: middle;\n",
       "    }\n",
       "\n",
       "    .dataframe tbody tr th {\n",
       "        vertical-align: top;\n",
       "    }\n",
       "\n",
       "    .dataframe thead th {\n",
       "        text-align: right;\n",
       "    }\n",
       "</style>\n",
       "<table border=\"1\" class=\"dataframe\">\n",
       "  <thead>\n",
       "    <tr style=\"text-align: right;\">\n",
       "      <th></th>\n",
       "      <th>area_type</th>\n",
       "      <th>availability</th>\n",
       "      <th>location</th>\n",
       "      <th>size</th>\n",
       "      <th>society</th>\n",
       "      <th>total_sqft</th>\n",
       "      <th>bath</th>\n",
       "      <th>balcony</th>\n",
       "      <th>price</th>\n",
       "    </tr>\n",
       "  </thead>\n",
       "  <tbody>\n",
       "    <tr>\n",
       "      <th>0</th>\n",
       "      <td>Super built-up  Area</td>\n",
       "      <td>19-Dec</td>\n",
       "      <td>Electronic City Phase II</td>\n",
       "      <td>2 BHK</td>\n",
       "      <td>Coomee</td>\n",
       "      <td>1056</td>\n",
       "      <td>2.0</td>\n",
       "      <td>1.0</td>\n",
       "      <td>39.07</td>\n",
       "    </tr>\n",
       "    <tr>\n",
       "      <th>1</th>\n",
       "      <td>Plot  Area</td>\n",
       "      <td>Ready To Move</td>\n",
       "      <td>Chikka Tirupathi</td>\n",
       "      <td>4 Bedroom</td>\n",
       "      <td>Theanmp</td>\n",
       "      <td>2600</td>\n",
       "      <td>5.0</td>\n",
       "      <td>3.0</td>\n",
       "      <td>120.00</td>\n",
       "    </tr>\n",
       "    <tr>\n",
       "      <th>2</th>\n",
       "      <td>Built-up  Area</td>\n",
       "      <td>Ready To Move</td>\n",
       "      <td>Uttarahalli</td>\n",
       "      <td>3 BHK</td>\n",
       "      <td>NaN</td>\n",
       "      <td>1440</td>\n",
       "      <td>2.0</td>\n",
       "      <td>3.0</td>\n",
       "      <td>62.00</td>\n",
       "    </tr>\n",
       "    <tr>\n",
       "      <th>3</th>\n",
       "      <td>Super built-up  Area</td>\n",
       "      <td>Ready To Move</td>\n",
       "      <td>Lingadheeranahalli</td>\n",
       "      <td>3 BHK</td>\n",
       "      <td>Soiewre</td>\n",
       "      <td>1521</td>\n",
       "      <td>3.0</td>\n",
       "      <td>1.0</td>\n",
       "      <td>95.00</td>\n",
       "    </tr>\n",
       "    <tr>\n",
       "      <th>4</th>\n",
       "      <td>Super built-up  Area</td>\n",
       "      <td>Ready To Move</td>\n",
       "      <td>Kothanur</td>\n",
       "      <td>2 BHK</td>\n",
       "      <td>NaN</td>\n",
       "      <td>1200</td>\n",
       "      <td>2.0</td>\n",
       "      <td>1.0</td>\n",
       "      <td>51.00</td>\n",
       "    </tr>\n",
       "  </tbody>\n",
       "</table>\n",
       "</div>"
      ],
      "text/plain": [
       "              area_type   availability                  location       size  \\\n",
       "0  Super built-up  Area         19-Dec  Electronic City Phase II      2 BHK   \n",
       "1            Plot  Area  Ready To Move          Chikka Tirupathi  4 Bedroom   \n",
       "2        Built-up  Area  Ready To Move               Uttarahalli      3 BHK   \n",
       "3  Super built-up  Area  Ready To Move        Lingadheeranahalli      3 BHK   \n",
       "4  Super built-up  Area  Ready To Move                  Kothanur      2 BHK   \n",
       "\n",
       "   society total_sqft  bath  balcony   price  \n",
       "0  Coomee        1056   2.0      1.0   39.07  \n",
       "1  Theanmp       2600   5.0      3.0  120.00  \n",
       "2      NaN       1440   2.0      3.0   62.00  \n",
       "3  Soiewre       1521   3.0      1.0   95.00  \n",
       "4      NaN       1200   2.0      1.0   51.00  "
      ]
     },
     "execution_count": 3,
     "metadata": {},
     "output_type": "execute_result"
    }
   ],
   "source": [
    "dt1=pd.read_csv(\"/kaggle/input/bengaluru-house-price-data/Bengaluru_House_Data.csv\")\n",
    "dt1.head()"
   ]
  },
  {
   "cell_type": "code",
   "execution_count": 4,
   "id": "b1b0e52f",
   "metadata": {
    "execution": {
     "iopub.execute_input": "2023-02-09T14:21:06.092149Z",
     "iopub.status.busy": "2023-02-09T14:21:06.091131Z",
     "iopub.status.idle": "2023-02-09T14:21:06.097782Z",
     "shell.execute_reply": "2023-02-09T14:21:06.096852Z"
    },
    "papermill": {
     "duration": 0.027178,
     "end_time": "2023-02-09T14:21:06.099885",
     "exception": false,
     "start_time": "2023-02-09T14:21:06.072707",
     "status": "completed"
    },
    "tags": []
   },
   "outputs": [
    {
     "data": {
      "text/plain": [
       "(13320, 9)"
      ]
     },
     "execution_count": 4,
     "metadata": {},
     "output_type": "execute_result"
    }
   ],
   "source": [
    "dt1.shape"
   ]
  },
  {
   "cell_type": "markdown",
   "id": "38b7d7a8",
   "metadata": {
    "papermill": {
     "duration": 0.015802,
     "end_time": "2023-02-09T14:21:06.132117",
     "exception": false,
     "start_time": "2023-02-09T14:21:06.116315",
     "status": "completed"
    },
    "tags": []
   },
   "source": [
    "Removing features that do not contribute much to the price prediction"
   ]
  },
  {
   "cell_type": "code",
   "execution_count": 5,
   "id": "fda898e7",
   "metadata": {
    "execution": {
     "iopub.execute_input": "2023-02-09T14:21:06.166844Z",
     "iopub.status.busy": "2023-02-09T14:21:06.166077Z",
     "iopub.status.idle": "2023-02-09T14:21:06.180370Z",
     "shell.execute_reply": "2023-02-09T14:21:06.179397Z"
    },
    "papermill": {
     "duration": 0.034311,
     "end_time": "2023-02-09T14:21:06.182614",
     "exception": false,
     "start_time": "2023-02-09T14:21:06.148303",
     "status": "completed"
    },
    "tags": []
   },
   "outputs": [
    {
     "data": {
      "text/plain": [
       "(13320, 5)"
      ]
     },
     "execution_count": 5,
     "metadata": {},
     "output_type": "execute_result"
    }
   ],
   "source": [
    "df2=dt1.drop(['availability','society','area_type','balcony'],axis='columns')\n",
    "df2.shape"
   ]
  },
  {
   "cell_type": "markdown",
   "id": "c173975c",
   "metadata": {
    "papermill": {
     "duration": 0.016419,
     "end_time": "2023-02-09T14:21:06.215731",
     "exception": false,
     "start_time": "2023-02-09T14:21:06.199312",
     "status": "completed"
    },
    "tags": []
   },
   "source": [
    "Data Cleaning"
   ]
  },
  {
   "cell_type": "code",
   "execution_count": 6,
   "id": "40d2e9a3",
   "metadata": {
    "execution": {
     "iopub.execute_input": "2023-02-09T14:21:06.252386Z",
     "iopub.status.busy": "2023-02-09T14:21:06.251319Z",
     "iopub.status.idle": "2023-02-09T14:21:06.266060Z",
     "shell.execute_reply": "2023-02-09T14:21:06.264811Z"
    },
    "papermill": {
     "duration": 0.037006,
     "end_time": "2023-02-09T14:21:06.269586",
     "exception": false,
     "start_time": "2023-02-09T14:21:06.232580",
     "status": "completed"
    },
    "tags": []
   },
   "outputs": [
    {
     "data": {
      "text/plain": [
       "location       1\n",
       "size          16\n",
       "total_sqft     0\n",
       "bath          73\n",
       "price          0\n",
       "dtype: int64"
      ]
     },
     "execution_count": 6,
     "metadata": {},
     "output_type": "execute_result"
    }
   ],
   "source": [
    "df2.isnull().sum()"
   ]
  },
  {
   "cell_type": "markdown",
   "id": "f5a21bfc",
   "metadata": {
    "papermill": {
     "duration": 0.016847,
     "end_time": "2023-02-09T14:21:06.311705",
     "exception": false,
     "start_time": "2023-02-09T14:21:06.294858",
     "status": "completed"
    },
    "tags": []
   },
   "source": [
    "Removing Null Values"
   ]
  },
  {
   "cell_type": "code",
   "execution_count": 7,
   "id": "05e4e4ae",
   "metadata": {
    "execution": {
     "iopub.execute_input": "2023-02-09T14:21:06.354748Z",
     "iopub.status.busy": "2023-02-09T14:21:06.354001Z",
     "iopub.status.idle": "2023-02-09T14:21:06.372132Z",
     "shell.execute_reply": "2023-02-09T14:21:06.371001Z"
    },
    "papermill": {
     "duration": 0.038986,
     "end_time": "2023-02-09T14:21:06.375012",
     "exception": false,
     "start_time": "2023-02-09T14:21:06.336026",
     "status": "completed"
    },
    "tags": []
   },
   "outputs": [
    {
     "data": {
      "text/plain": [
       "location      0\n",
       "size          0\n",
       "total_sqft    0\n",
       "bath          0\n",
       "price         0\n",
       "dtype: int64"
      ]
     },
     "execution_count": 7,
     "metadata": {},
     "output_type": "execute_result"
    }
   ],
   "source": [
    "df3=df2.dropna()\n",
    "df3.isnull().sum()"
   ]
  },
  {
   "cell_type": "code",
   "execution_count": 8,
   "id": "eb9f88fc",
   "metadata": {
    "execution": {
     "iopub.execute_input": "2023-02-09T14:21:06.409913Z",
     "iopub.status.busy": "2023-02-09T14:21:06.409484Z",
     "iopub.status.idle": "2023-02-09T14:21:06.416130Z",
     "shell.execute_reply": "2023-02-09T14:21:06.415209Z"
    },
    "papermill": {
     "duration": 0.02676,
     "end_time": "2023-02-09T14:21:06.418393",
     "exception": false,
     "start_time": "2023-02-09T14:21:06.391633",
     "status": "completed"
    },
    "tags": []
   },
   "outputs": [
    {
     "data": {
      "text/plain": [
       "(13246, 5)"
      ]
     },
     "execution_count": 8,
     "metadata": {},
     "output_type": "execute_result"
    }
   ],
   "source": [
    "df3.shape"
   ]
  },
  {
   "cell_type": "markdown",
   "id": "e716fb56",
   "metadata": {
    "papermill": {
     "duration": 0.015945,
     "end_time": "2023-02-09T14:21:06.452034",
     "exception": false,
     "start_time": "2023-02-09T14:21:06.436089",
     "status": "completed"
    },
    "tags": []
   },
   "source": [
    "Feature Engineeriing"
   ]
  },
  {
   "cell_type": "code",
   "execution_count": 9,
   "id": "996df2aa",
   "metadata": {
    "execution": {
     "iopub.execute_input": "2023-02-09T14:21:06.486940Z",
     "iopub.status.busy": "2023-02-09T14:21:06.486207Z",
     "iopub.status.idle": "2023-02-09T14:21:06.500286Z",
     "shell.execute_reply": "2023-02-09T14:21:06.499074Z"
    },
    "papermill": {
     "duration": 0.035015,
     "end_time": "2023-02-09T14:21:06.503424",
     "exception": false,
     "start_time": "2023-02-09T14:21:06.468409",
     "status": "completed"
    },
    "tags": []
   },
   "outputs": [
    {
     "data": {
      "text/html": [
       "<div>\n",
       "<style scoped>\n",
       "    .dataframe tbody tr th:only-of-type {\n",
       "        vertical-align: middle;\n",
       "    }\n",
       "\n",
       "    .dataframe tbody tr th {\n",
       "        vertical-align: top;\n",
       "    }\n",
       "\n",
       "    .dataframe thead th {\n",
       "        text-align: right;\n",
       "    }\n",
       "</style>\n",
       "<table border=\"1\" class=\"dataframe\">\n",
       "  <thead>\n",
       "    <tr style=\"text-align: right;\">\n",
       "      <th></th>\n",
       "      <th>location</th>\n",
       "      <th>size</th>\n",
       "      <th>total_sqft</th>\n",
       "      <th>bath</th>\n",
       "      <th>price</th>\n",
       "    </tr>\n",
       "  </thead>\n",
       "  <tbody>\n",
       "    <tr>\n",
       "      <th>0</th>\n",
       "      <td>Electronic City Phase II</td>\n",
       "      <td>2 BHK</td>\n",
       "      <td>1056</td>\n",
       "      <td>2.0</td>\n",
       "      <td>39.07</td>\n",
       "    </tr>\n",
       "    <tr>\n",
       "      <th>1</th>\n",
       "      <td>Chikka Tirupathi</td>\n",
       "      <td>4 Bedroom</td>\n",
       "      <td>2600</td>\n",
       "      <td>5.0</td>\n",
       "      <td>120.00</td>\n",
       "    </tr>\n",
       "    <tr>\n",
       "      <th>2</th>\n",
       "      <td>Uttarahalli</td>\n",
       "      <td>3 BHK</td>\n",
       "      <td>1440</td>\n",
       "      <td>2.0</td>\n",
       "      <td>62.00</td>\n",
       "    </tr>\n",
       "    <tr>\n",
       "      <th>3</th>\n",
       "      <td>Lingadheeranahalli</td>\n",
       "      <td>3 BHK</td>\n",
       "      <td>1521</td>\n",
       "      <td>3.0</td>\n",
       "      <td>95.00</td>\n",
       "    </tr>\n",
       "    <tr>\n",
       "      <th>4</th>\n",
       "      <td>Kothanur</td>\n",
       "      <td>2 BHK</td>\n",
       "      <td>1200</td>\n",
       "      <td>2.0</td>\n",
       "      <td>51.00</td>\n",
       "    </tr>\n",
       "  </tbody>\n",
       "</table>\n",
       "</div>"
      ],
      "text/plain": [
       "                   location       size total_sqft  bath   price\n",
       "0  Electronic City Phase II      2 BHK       1056   2.0   39.07\n",
       "1          Chikka Tirupathi  4 Bedroom       2600   5.0  120.00\n",
       "2               Uttarahalli      3 BHK       1440   2.0   62.00\n",
       "3        Lingadheeranahalli      3 BHK       1521   3.0   95.00\n",
       "4                  Kothanur      2 BHK       1200   2.0   51.00"
      ]
     },
     "execution_count": 9,
     "metadata": {},
     "output_type": "execute_result"
    }
   ],
   "source": [
    "df3.head()"
   ]
  },
  {
   "cell_type": "code",
   "execution_count": 10,
   "id": "b2ff96b8",
   "metadata": {
    "execution": {
     "iopub.execute_input": "2023-02-09T14:21:06.539764Z",
     "iopub.status.busy": "2023-02-09T14:21:06.539345Z",
     "iopub.status.idle": "2023-02-09T14:21:06.550847Z",
     "shell.execute_reply": "2023-02-09T14:21:06.549219Z"
    },
    "papermill": {
     "duration": 0.03246,
     "end_time": "2023-02-09T14:21:06.553228",
     "exception": false,
     "start_time": "2023-02-09T14:21:06.520768",
     "status": "completed"
    },
    "tags": []
   },
   "outputs": [
    {
     "data": {
      "text/plain": [
       "array(['2 BHK', '4 Bedroom', '3 BHK', '4 BHK', '6 Bedroom', '3 Bedroom',\n",
       "       '1 BHK', '1 RK', '1 Bedroom', '8 Bedroom', '2 Bedroom',\n",
       "       '7 Bedroom', '5 BHK', '7 BHK', '6 BHK', '5 Bedroom', '11 BHK',\n",
       "       '9 BHK', '9 Bedroom', '27 BHK', '10 Bedroom', '11 Bedroom',\n",
       "       '10 BHK', '19 BHK', '16 BHK', '43 Bedroom', '14 BHK', '8 BHK',\n",
       "       '12 Bedroom', '13 BHK', '18 Bedroom'], dtype=object)"
      ]
     },
     "execution_count": 10,
     "metadata": {},
     "output_type": "execute_result"
    }
   ],
   "source": [
    "df3['size'].unique()"
   ]
  },
  {
   "cell_type": "markdown",
   "id": "4d2c9466",
   "metadata": {
    "papermill": {
     "duration": 0.016546,
     "end_time": "2023-02-09T14:21:06.586527",
     "exception": false,
     "start_time": "2023-02-09T14:21:06.569981",
     "status": "completed"
    },
    "tags": []
   },
   "source": [
    "Adding a new  feature for bhk"
   ]
  },
  {
   "cell_type": "code",
   "execution_count": 11,
   "id": "8e64a74f",
   "metadata": {
    "execution": {
     "iopub.execute_input": "2023-02-09T14:21:06.622022Z",
     "iopub.status.busy": "2023-02-09T14:21:06.621601Z",
     "iopub.status.idle": "2023-02-09T14:21:06.644922Z",
     "shell.execute_reply": "2023-02-09T14:21:06.643537Z"
    },
    "papermill": {
     "duration": 0.044633,
     "end_time": "2023-02-09T14:21:06.648088",
     "exception": false,
     "start_time": "2023-02-09T14:21:06.603455",
     "status": "completed"
    },
    "tags": []
   },
   "outputs": [
    {
     "name": "stderr",
     "output_type": "stream",
     "text": [
      "/opt/conda/lib/python3.7/site-packages/ipykernel_launcher.py:1: SettingWithCopyWarning: \n",
      "A value is trying to be set on a copy of a slice from a DataFrame.\n",
      "Try using .loc[row_indexer,col_indexer] = value instead\n",
      "\n",
      "See the caveats in the documentation: https://pandas.pydata.org/pandas-docs/stable/user_guide/indexing.html#returning-a-view-versus-a-copy\n",
      "  \"\"\"Entry point for launching an IPython kernel.\n"
     ]
    },
    {
     "data": {
      "text/plain": [
       "array([ 2,  4,  3,  6,  1,  8,  7,  5, 11,  9, 27, 10, 19, 16, 43, 14, 12,\n",
       "       13, 18])"
      ]
     },
     "execution_count": 11,
     "metadata": {},
     "output_type": "execute_result"
    }
   ],
   "source": [
    "df3['bhk']=df3['size'].apply(lambda x: int(x.split(' ')[0]))\n",
    "df3['bhk'].unique()"
   ]
  },
  {
   "cell_type": "code",
   "execution_count": 12,
   "id": "0db8dcc8",
   "metadata": {
    "execution": {
     "iopub.execute_input": "2023-02-09T14:21:06.684026Z",
     "iopub.status.busy": "2023-02-09T14:21:06.683622Z",
     "iopub.status.idle": "2023-02-09T14:21:06.697977Z",
     "shell.execute_reply": "2023-02-09T14:21:06.696721Z"
    },
    "papermill": {
     "duration": 0.035224,
     "end_time": "2023-02-09T14:21:06.700415",
     "exception": false,
     "start_time": "2023-02-09T14:21:06.665191",
     "status": "completed"
    },
    "tags": []
   },
   "outputs": [
    {
     "data": {
      "text/html": [
       "<div>\n",
       "<style scoped>\n",
       "    .dataframe tbody tr th:only-of-type {\n",
       "        vertical-align: middle;\n",
       "    }\n",
       "\n",
       "    .dataframe tbody tr th {\n",
       "        vertical-align: top;\n",
       "    }\n",
       "\n",
       "    .dataframe thead th {\n",
       "        text-align: right;\n",
       "    }\n",
       "</style>\n",
       "<table border=\"1\" class=\"dataframe\">\n",
       "  <thead>\n",
       "    <tr style=\"text-align: right;\">\n",
       "      <th></th>\n",
       "      <th>location</th>\n",
       "      <th>size</th>\n",
       "      <th>total_sqft</th>\n",
       "      <th>bath</th>\n",
       "      <th>price</th>\n",
       "      <th>bhk</th>\n",
       "    </tr>\n",
       "  </thead>\n",
       "  <tbody>\n",
       "    <tr>\n",
       "      <th>0</th>\n",
       "      <td>Electronic City Phase II</td>\n",
       "      <td>2 BHK</td>\n",
       "      <td>1056</td>\n",
       "      <td>2.0</td>\n",
       "      <td>39.07</td>\n",
       "      <td>2</td>\n",
       "    </tr>\n",
       "    <tr>\n",
       "      <th>1</th>\n",
       "      <td>Chikka Tirupathi</td>\n",
       "      <td>4 Bedroom</td>\n",
       "      <td>2600</td>\n",
       "      <td>5.0</td>\n",
       "      <td>120.00</td>\n",
       "      <td>4</td>\n",
       "    </tr>\n",
       "    <tr>\n",
       "      <th>2</th>\n",
       "      <td>Uttarahalli</td>\n",
       "      <td>3 BHK</td>\n",
       "      <td>1440</td>\n",
       "      <td>2.0</td>\n",
       "      <td>62.00</td>\n",
       "      <td>3</td>\n",
       "    </tr>\n",
       "    <tr>\n",
       "      <th>3</th>\n",
       "      <td>Lingadheeranahalli</td>\n",
       "      <td>3 BHK</td>\n",
       "      <td>1521</td>\n",
       "      <td>3.0</td>\n",
       "      <td>95.00</td>\n",
       "      <td>3</td>\n",
       "    </tr>\n",
       "    <tr>\n",
       "      <th>4</th>\n",
       "      <td>Kothanur</td>\n",
       "      <td>2 BHK</td>\n",
       "      <td>1200</td>\n",
       "      <td>2.0</td>\n",
       "      <td>51.00</td>\n",
       "      <td>2</td>\n",
       "    </tr>\n",
       "  </tbody>\n",
       "</table>\n",
       "</div>"
      ],
      "text/plain": [
       "                   location       size total_sqft  bath   price  bhk\n",
       "0  Electronic City Phase II      2 BHK       1056   2.0   39.07    2\n",
       "1          Chikka Tirupathi  4 Bedroom       2600   5.0  120.00    4\n",
       "2               Uttarahalli      3 BHK       1440   2.0   62.00    3\n",
       "3        Lingadheeranahalli      3 BHK       1521   3.0   95.00    3\n",
       "4                  Kothanur      2 BHK       1200   2.0   51.00    2"
      ]
     },
     "execution_count": 12,
     "metadata": {},
     "output_type": "execute_result"
    }
   ],
   "source": [
    "df3.head()"
   ]
  },
  {
   "cell_type": "code",
   "execution_count": 13,
   "id": "93604cd9",
   "metadata": {
    "execution": {
     "iopub.execute_input": "2023-02-09T14:21:06.737290Z",
     "iopub.status.busy": "2023-02-09T14:21:06.736272Z",
     "iopub.status.idle": "2023-02-09T14:21:06.745169Z",
     "shell.execute_reply": "2023-02-09T14:21:06.744229Z"
    },
    "papermill": {
     "duration": 0.029458,
     "end_time": "2023-02-09T14:21:06.747301",
     "exception": false,
     "start_time": "2023-02-09T14:21:06.717843",
     "status": "completed"
    },
    "tags": []
   },
   "outputs": [
    {
     "data": {
      "text/plain": [
       "array(['1056', '2600', '1440', ..., '1133 - 1384', '774', '4689'],\n",
       "      dtype=object)"
      ]
     },
     "execution_count": 13,
     "metadata": {},
     "output_type": "execute_result"
    }
   ],
   "source": [
    "df3['total_sqft'].unique()"
   ]
  },
  {
   "cell_type": "code",
   "execution_count": 14,
   "id": "a7957f6b",
   "metadata": {
    "execution": {
     "iopub.execute_input": "2023-02-09T14:21:06.784065Z",
     "iopub.status.busy": "2023-02-09T14:21:06.783376Z",
     "iopub.status.idle": "2023-02-09T14:21:06.788801Z",
     "shell.execute_reply": "2023-02-09T14:21:06.787858Z"
    },
    "papermill": {
     "duration": 0.02678,
     "end_time": "2023-02-09T14:21:06.791356",
     "exception": false,
     "start_time": "2023-02-09T14:21:06.764576",
     "status": "completed"
    },
    "tags": []
   },
   "outputs": [],
   "source": [
    "def is_float(x):\n",
    "    try:\n",
    "        float(x)\n",
    "    except:\n",
    "        return False\n",
    "    return True"
   ]
  },
  {
   "cell_type": "code",
   "execution_count": 15,
   "id": "2c7e8c42",
   "metadata": {
    "execution": {
     "iopub.execute_input": "2023-02-09T14:21:06.829160Z",
     "iopub.status.busy": "2023-02-09T14:21:06.828361Z",
     "iopub.status.idle": "2023-02-09T14:21:06.851788Z",
     "shell.execute_reply": "2023-02-09T14:21:06.850589Z"
    },
    "papermill": {
     "duration": 0.045098,
     "end_time": "2023-02-09T14:21:06.854461",
     "exception": false,
     "start_time": "2023-02-09T14:21:06.809363",
     "status": "completed"
    },
    "tags": []
   },
   "outputs": [
    {
     "data": {
      "text/html": [
       "<div>\n",
       "<style scoped>\n",
       "    .dataframe tbody tr th:only-of-type {\n",
       "        vertical-align: middle;\n",
       "    }\n",
       "\n",
       "    .dataframe tbody tr th {\n",
       "        vertical-align: top;\n",
       "    }\n",
       "\n",
       "    .dataframe thead th {\n",
       "        text-align: right;\n",
       "    }\n",
       "</style>\n",
       "<table border=\"1\" class=\"dataframe\">\n",
       "  <thead>\n",
       "    <tr style=\"text-align: right;\">\n",
       "      <th></th>\n",
       "      <th>location</th>\n",
       "      <th>size</th>\n",
       "      <th>total_sqft</th>\n",
       "      <th>bath</th>\n",
       "      <th>price</th>\n",
       "      <th>bhk</th>\n",
       "    </tr>\n",
       "  </thead>\n",
       "  <tbody>\n",
       "    <tr>\n",
       "      <th>30</th>\n",
       "      <td>Yelahanka</td>\n",
       "      <td>4 BHK</td>\n",
       "      <td>2100 - 2850</td>\n",
       "      <td>4.0</td>\n",
       "      <td>186.000</td>\n",
       "      <td>4</td>\n",
       "    </tr>\n",
       "    <tr>\n",
       "      <th>122</th>\n",
       "      <td>Hebbal</td>\n",
       "      <td>4 BHK</td>\n",
       "      <td>3067 - 8156</td>\n",
       "      <td>4.0</td>\n",
       "      <td>477.000</td>\n",
       "      <td>4</td>\n",
       "    </tr>\n",
       "    <tr>\n",
       "      <th>137</th>\n",
       "      <td>8th Phase JP Nagar</td>\n",
       "      <td>2 BHK</td>\n",
       "      <td>1042 - 1105</td>\n",
       "      <td>2.0</td>\n",
       "      <td>54.005</td>\n",
       "      <td>2</td>\n",
       "    </tr>\n",
       "    <tr>\n",
       "      <th>165</th>\n",
       "      <td>Sarjapur</td>\n",
       "      <td>2 BHK</td>\n",
       "      <td>1145 - 1340</td>\n",
       "      <td>2.0</td>\n",
       "      <td>43.490</td>\n",
       "      <td>2</td>\n",
       "    </tr>\n",
       "    <tr>\n",
       "      <th>188</th>\n",
       "      <td>KR Puram</td>\n",
       "      <td>2 BHK</td>\n",
       "      <td>1015 - 1540</td>\n",
       "      <td>2.0</td>\n",
       "      <td>56.800</td>\n",
       "      <td>2</td>\n",
       "    </tr>\n",
       "    <tr>\n",
       "      <th>410</th>\n",
       "      <td>Kengeri</td>\n",
       "      <td>1 BHK</td>\n",
       "      <td>34.46Sq. Meter</td>\n",
       "      <td>1.0</td>\n",
       "      <td>18.500</td>\n",
       "      <td>1</td>\n",
       "    </tr>\n",
       "    <tr>\n",
       "      <th>549</th>\n",
       "      <td>Hennur Road</td>\n",
       "      <td>2 BHK</td>\n",
       "      <td>1195 - 1440</td>\n",
       "      <td>2.0</td>\n",
       "      <td>63.770</td>\n",
       "      <td>2</td>\n",
       "    </tr>\n",
       "    <tr>\n",
       "      <th>648</th>\n",
       "      <td>Arekere</td>\n",
       "      <td>9 Bedroom</td>\n",
       "      <td>4125Perch</td>\n",
       "      <td>9.0</td>\n",
       "      <td>265.000</td>\n",
       "      <td>9</td>\n",
       "    </tr>\n",
       "    <tr>\n",
       "      <th>661</th>\n",
       "      <td>Yelahanka</td>\n",
       "      <td>2 BHK</td>\n",
       "      <td>1120 - 1145</td>\n",
       "      <td>2.0</td>\n",
       "      <td>48.130</td>\n",
       "      <td>2</td>\n",
       "    </tr>\n",
       "    <tr>\n",
       "      <th>672</th>\n",
       "      <td>Bettahalsoor</td>\n",
       "      <td>4 Bedroom</td>\n",
       "      <td>3090 - 5002</td>\n",
       "      <td>4.0</td>\n",
       "      <td>445.000</td>\n",
       "      <td>4</td>\n",
       "    </tr>\n",
       "  </tbody>\n",
       "</table>\n",
       "</div>"
      ],
      "text/plain": [
       "               location       size      total_sqft  bath    price  bhk\n",
       "30            Yelahanka      4 BHK     2100 - 2850   4.0  186.000    4\n",
       "122              Hebbal      4 BHK     3067 - 8156   4.0  477.000    4\n",
       "137  8th Phase JP Nagar      2 BHK     1042 - 1105   2.0   54.005    2\n",
       "165            Sarjapur      2 BHK     1145 - 1340   2.0   43.490    2\n",
       "188            KR Puram      2 BHK     1015 - 1540   2.0   56.800    2\n",
       "410             Kengeri      1 BHK  34.46Sq. Meter   1.0   18.500    1\n",
       "549         Hennur Road      2 BHK     1195 - 1440   2.0   63.770    2\n",
       "648             Arekere  9 Bedroom       4125Perch   9.0  265.000    9\n",
       "661           Yelahanka      2 BHK     1120 - 1145   2.0   48.130    2\n",
       "672        Bettahalsoor  4 Bedroom     3090 - 5002   4.0  445.000    4"
      ]
     },
     "execution_count": 15,
     "metadata": {},
     "output_type": "execute_result"
    }
   ],
   "source": [
    "df3[~df3['total_sqft'].apply(is_float)].head(10)"
   ]
  },
  {
   "cell_type": "markdown",
   "id": "ef30e352",
   "metadata": {
    "papermill": {
     "duration": 0.018479,
     "end_time": "2023-02-09T14:21:06.891442",
     "exception": false,
     "start_time": "2023-02-09T14:21:06.872963",
     "status": "completed"
    },
    "tags": []
   },
   "source": [
    "Some of the values for total_sqft are not integer or exact values but a range is given . Therefore we take the average pf the maximum and minimum value of the range . For 410th sample we can see that the total_sqft is given in Sq.Meter . Such corner cases are removed."
   ]
  },
  {
   "cell_type": "code",
   "execution_count": 16,
   "id": "bab6cfa7",
   "metadata": {
    "execution": {
     "iopub.execute_input": "2023-02-09T14:21:06.929478Z",
     "iopub.status.busy": "2023-02-09T14:21:06.929029Z",
     "iopub.status.idle": "2023-02-09T14:21:06.934576Z",
     "shell.execute_reply": "2023-02-09T14:21:06.933693Z"
    },
    "papermill": {
     "duration": 0.027693,
     "end_time": "2023-02-09T14:21:06.936662",
     "exception": false,
     "start_time": "2023-02-09T14:21:06.908969",
     "status": "completed"
    },
    "tags": []
   },
   "outputs": [],
   "source": [
    "def convert(x):\n",
    "    tokens=x.split('-')\n",
    "    if len(tokens)==2:\n",
    "        return (float(tokens[0])+float(tokens[1]))//2\n",
    "    try:\n",
    "        return float(x)\n",
    "    except:\n",
    "        return None"
   ]
  },
  {
   "cell_type": "code",
   "execution_count": 17,
   "id": "b038fcd5",
   "metadata": {
    "execution": {
     "iopub.execute_input": "2023-02-09T14:21:06.974065Z",
     "iopub.status.busy": "2023-02-09T14:21:06.973122Z",
     "iopub.status.idle": "2023-02-09T14:21:07.000709Z",
     "shell.execute_reply": "2023-02-09T14:21:06.999776Z"
    },
    "papermill": {
     "duration": 0.048616,
     "end_time": "2023-02-09T14:21:07.002929",
     "exception": false,
     "start_time": "2023-02-09T14:21:06.954313",
     "status": "completed"
    },
    "tags": []
   },
   "outputs": [
    {
     "data": {
      "text/html": [
       "<div>\n",
       "<style scoped>\n",
       "    .dataframe tbody tr th:only-of-type {\n",
       "        vertical-align: middle;\n",
       "    }\n",
       "\n",
       "    .dataframe tbody tr th {\n",
       "        vertical-align: top;\n",
       "    }\n",
       "\n",
       "    .dataframe thead th {\n",
       "        text-align: right;\n",
       "    }\n",
       "</style>\n",
       "<table border=\"1\" class=\"dataframe\">\n",
       "  <thead>\n",
       "    <tr style=\"text-align: right;\">\n",
       "      <th></th>\n",
       "      <th>location</th>\n",
       "      <th>size</th>\n",
       "      <th>total_sqft</th>\n",
       "      <th>bath</th>\n",
       "      <th>price</th>\n",
       "      <th>bhk</th>\n",
       "    </tr>\n",
       "  </thead>\n",
       "  <tbody>\n",
       "    <tr>\n",
       "      <th>0</th>\n",
       "      <td>Electronic City Phase II</td>\n",
       "      <td>2 BHK</td>\n",
       "      <td>1056.0</td>\n",
       "      <td>2.0</td>\n",
       "      <td>39.07</td>\n",
       "      <td>2</td>\n",
       "    </tr>\n",
       "    <tr>\n",
       "      <th>1</th>\n",
       "      <td>Chikka Tirupathi</td>\n",
       "      <td>4 Bedroom</td>\n",
       "      <td>2600.0</td>\n",
       "      <td>5.0</td>\n",
       "      <td>120.00</td>\n",
       "      <td>4</td>\n",
       "    </tr>\n",
       "    <tr>\n",
       "      <th>2</th>\n",
       "      <td>Uttarahalli</td>\n",
       "      <td>3 BHK</td>\n",
       "      <td>1440.0</td>\n",
       "      <td>2.0</td>\n",
       "      <td>62.00</td>\n",
       "      <td>3</td>\n",
       "    </tr>\n",
       "    <tr>\n",
       "      <th>3</th>\n",
       "      <td>Lingadheeranahalli</td>\n",
       "      <td>3 BHK</td>\n",
       "      <td>1521.0</td>\n",
       "      <td>3.0</td>\n",
       "      <td>95.00</td>\n",
       "      <td>3</td>\n",
       "    </tr>\n",
       "    <tr>\n",
       "      <th>4</th>\n",
       "      <td>Kothanur</td>\n",
       "      <td>2 BHK</td>\n",
       "      <td>1200.0</td>\n",
       "      <td>2.0</td>\n",
       "      <td>51.00</td>\n",
       "      <td>2</td>\n",
       "    </tr>\n",
       "  </tbody>\n",
       "</table>\n",
       "</div>"
      ],
      "text/plain": [
       "                   location       size  total_sqft  bath   price  bhk\n",
       "0  Electronic City Phase II      2 BHK      1056.0   2.0   39.07    2\n",
       "1          Chikka Tirupathi  4 Bedroom      2600.0   5.0  120.00    4\n",
       "2               Uttarahalli      3 BHK      1440.0   2.0   62.00    3\n",
       "3        Lingadheeranahalli      3 BHK      1521.0   3.0   95.00    3\n",
       "4                  Kothanur      2 BHK      1200.0   2.0   51.00    2"
      ]
     },
     "execution_count": 17,
     "metadata": {},
     "output_type": "execute_result"
    }
   ],
   "source": [
    "df4=df3.copy()\n",
    "df4['total_sqft']=df4['total_sqft'].apply(convert)\n",
    "df4=df4[df4['total_sqft'].notnull()]\n",
    "df4.head(5)"
   ]
  },
  {
   "cell_type": "markdown",
   "id": "1b45859a",
   "metadata": {
    "papermill": {
     "duration": 0.017173,
     "end_time": "2023-02-09T14:21:07.037977",
     "exception": false,
     "start_time": "2023-02-09T14:21:07.020804",
     "status": "completed"
    },
    "tags": []
   },
   "source": [
    "Adding a new feature price_per_sqft"
   ]
  },
  {
   "cell_type": "code",
   "execution_count": 18,
   "id": "dac704e8",
   "metadata": {
    "execution": {
     "iopub.execute_input": "2023-02-09T14:21:07.076419Z",
     "iopub.status.busy": "2023-02-09T14:21:07.075104Z",
     "iopub.status.idle": "2023-02-09T14:21:07.094294Z",
     "shell.execute_reply": "2023-02-09T14:21:07.092894Z"
    },
    "papermill": {
     "duration": 0.041088,
     "end_time": "2023-02-09T14:21:07.096764",
     "exception": false,
     "start_time": "2023-02-09T14:21:07.055676",
     "status": "completed"
    },
    "tags": []
   },
   "outputs": [
    {
     "data": {
      "text/html": [
       "<div>\n",
       "<style scoped>\n",
       "    .dataframe tbody tr th:only-of-type {\n",
       "        vertical-align: middle;\n",
       "    }\n",
       "\n",
       "    .dataframe tbody tr th {\n",
       "        vertical-align: top;\n",
       "    }\n",
       "\n",
       "    .dataframe thead th {\n",
       "        text-align: right;\n",
       "    }\n",
       "</style>\n",
       "<table border=\"1\" class=\"dataframe\">\n",
       "  <thead>\n",
       "    <tr style=\"text-align: right;\">\n",
       "      <th></th>\n",
       "      <th>location</th>\n",
       "      <th>size</th>\n",
       "      <th>total_sqft</th>\n",
       "      <th>bath</th>\n",
       "      <th>price</th>\n",
       "      <th>bhk</th>\n",
       "      <th>price_per_sqft</th>\n",
       "    </tr>\n",
       "  </thead>\n",
       "  <tbody>\n",
       "    <tr>\n",
       "      <th>0</th>\n",
       "      <td>Electronic City Phase II</td>\n",
       "      <td>2 BHK</td>\n",
       "      <td>1056.0</td>\n",
       "      <td>2.0</td>\n",
       "      <td>39.07</td>\n",
       "      <td>2</td>\n",
       "      <td>3699.810606</td>\n",
       "    </tr>\n",
       "    <tr>\n",
       "      <th>1</th>\n",
       "      <td>Chikka Tirupathi</td>\n",
       "      <td>4 Bedroom</td>\n",
       "      <td>2600.0</td>\n",
       "      <td>5.0</td>\n",
       "      <td>120.00</td>\n",
       "      <td>4</td>\n",
       "      <td>4615.384615</td>\n",
       "    </tr>\n",
       "    <tr>\n",
       "      <th>2</th>\n",
       "      <td>Uttarahalli</td>\n",
       "      <td>3 BHK</td>\n",
       "      <td>1440.0</td>\n",
       "      <td>2.0</td>\n",
       "      <td>62.00</td>\n",
       "      <td>3</td>\n",
       "      <td>4305.555556</td>\n",
       "    </tr>\n",
       "    <tr>\n",
       "      <th>3</th>\n",
       "      <td>Lingadheeranahalli</td>\n",
       "      <td>3 BHK</td>\n",
       "      <td>1521.0</td>\n",
       "      <td>3.0</td>\n",
       "      <td>95.00</td>\n",
       "      <td>3</td>\n",
       "      <td>6245.890861</td>\n",
       "    </tr>\n",
       "    <tr>\n",
       "      <th>4</th>\n",
       "      <td>Kothanur</td>\n",
       "      <td>2 BHK</td>\n",
       "      <td>1200.0</td>\n",
       "      <td>2.0</td>\n",
       "      <td>51.00</td>\n",
       "      <td>2</td>\n",
       "      <td>4250.000000</td>\n",
       "    </tr>\n",
       "  </tbody>\n",
       "</table>\n",
       "</div>"
      ],
      "text/plain": [
       "                   location       size  total_sqft  bath   price  bhk  \\\n",
       "0  Electronic City Phase II      2 BHK      1056.0   2.0   39.07    2   \n",
       "1          Chikka Tirupathi  4 Bedroom      2600.0   5.0  120.00    4   \n",
       "2               Uttarahalli      3 BHK      1440.0   2.0   62.00    3   \n",
       "3        Lingadheeranahalli      3 BHK      1521.0   3.0   95.00    3   \n",
       "4                  Kothanur      2 BHK      1200.0   2.0   51.00    2   \n",
       "\n",
       "   price_per_sqft  \n",
       "0     3699.810606  \n",
       "1     4615.384615  \n",
       "2     4305.555556  \n",
       "3     6245.890861  \n",
       "4     4250.000000  "
      ]
     },
     "execution_count": 18,
     "metadata": {},
     "output_type": "execute_result"
    }
   ],
   "source": [
    "df5=df4.copy()\n",
    "df5['price_per_sqft']=df5['price']*100000/df5['total_sqft']\n",
    "df5.head()"
   ]
  },
  {
   "cell_type": "markdown",
   "id": "185f0fd7",
   "metadata": {
    "papermill": {
     "duration": 0.017671,
     "end_time": "2023-02-09T14:21:07.132465",
     "exception": false,
     "start_time": "2023-02-09T14:21:07.114794",
     "status": "completed"
    },
    "tags": []
   },
   "source": [
    "reducing the number of locations by using dimensionality reduction technique"
   ]
  },
  {
   "cell_type": "code",
   "execution_count": 19,
   "id": "c906feba",
   "metadata": {
    "execution": {
     "iopub.execute_input": "2023-02-09T14:21:07.170542Z",
     "iopub.status.busy": "2023-02-09T14:21:07.169849Z",
     "iopub.status.idle": "2023-02-09T14:21:07.187059Z",
     "shell.execute_reply": "2023-02-09T14:21:07.185777Z"
    },
    "papermill": {
     "duration": 0.039148,
     "end_time": "2023-02-09T14:21:07.189451",
     "exception": false,
     "start_time": "2023-02-09T14:21:07.150303",
     "status": "completed"
    },
    "tags": []
   },
   "outputs": [
    {
     "data": {
      "text/plain": [
       "Whitefield                   533\n",
       "Sarjapur  Road               392\n",
       "Electronic City              304\n",
       "Kanakpura Road               264\n",
       "Thanisandra                  235\n",
       "                            ... \n",
       "Rajanna Layout                 1\n",
       "Subramanyanagar                1\n",
       "Lakshmipura Vidyaanyapura      1\n",
       "Malur Hosur Road               1\n",
       "Abshot Layout                  1\n",
       "Name: location, Length: 1287, dtype: int64"
      ]
     },
     "execution_count": 19,
     "metadata": {},
     "output_type": "execute_result"
    }
   ],
   "source": [
    "df5['location']=df5['location'].apply(lambda x:x.strip())\n",
    "location_stat=df5['location'].value_counts(ascending=False)\n",
    "location_stat"
   ]
  },
  {
   "cell_type": "code",
   "execution_count": 20,
   "id": "790da4c6",
   "metadata": {
    "execution": {
     "iopub.execute_input": "2023-02-09T14:21:07.229231Z",
     "iopub.status.busy": "2023-02-09T14:21:07.228531Z",
     "iopub.status.idle": "2023-02-09T14:21:07.236221Z",
     "shell.execute_reply": "2023-02-09T14:21:07.234999Z"
    },
    "papermill": {
     "duration": 0.030524,
     "end_time": "2023-02-09T14:21:07.238648",
     "exception": false,
     "start_time": "2023-02-09T14:21:07.208124",
     "status": "completed"
    },
    "tags": []
   },
   "outputs": [
    {
     "data": {
      "text/plain": [
       "1287"
      ]
     },
     "execution_count": 20,
     "metadata": {},
     "output_type": "execute_result"
    }
   ],
   "source": [
    "len(location_stat)"
   ]
  },
  {
   "cell_type": "code",
   "execution_count": 21,
   "id": "303a85ad",
   "metadata": {
    "execution": {
     "iopub.execute_input": "2023-02-09T14:21:07.277792Z",
     "iopub.status.busy": "2023-02-09T14:21:07.277288Z",
     "iopub.status.idle": "2023-02-09T14:21:07.285308Z",
     "shell.execute_reply": "2023-02-09T14:21:07.284127Z"
    },
    "papermill": {
     "duration": 0.03069,
     "end_time": "2023-02-09T14:21:07.287665",
     "exception": false,
     "start_time": "2023-02-09T14:21:07.256975",
     "status": "completed"
    },
    "tags": []
   },
   "outputs": [
    {
     "data": {
      "text/plain": [
       "13200"
      ]
     },
     "execution_count": 21,
     "metadata": {},
     "output_type": "execute_result"
    }
   ],
   "source": [
    "location_stat.values.sum()"
   ]
  },
  {
   "cell_type": "code",
   "execution_count": 22,
   "id": "75092a62",
   "metadata": {
    "execution": {
     "iopub.execute_input": "2023-02-09T14:21:07.326792Z",
     "iopub.status.busy": "2023-02-09T14:21:07.325881Z",
     "iopub.status.idle": "2023-02-09T14:21:07.333075Z",
     "shell.execute_reply": "2023-02-09T14:21:07.332223Z"
    },
    "papermill": {
     "duration": 0.029179,
     "end_time": "2023-02-09T14:21:07.335317",
     "exception": false,
     "start_time": "2023-02-09T14:21:07.306138",
     "status": "completed"
    },
    "tags": []
   },
   "outputs": [
    {
     "data": {
      "text/plain": [
       "240"
      ]
     },
     "execution_count": 22,
     "metadata": {},
     "output_type": "execute_result"
    }
   ],
   "source": [
    "len(location_stat[location_stat>10])"
   ]
  },
  {
   "cell_type": "markdown",
   "id": "9db4183f",
   "metadata": {
    "papermill": {
     "duration": 0.017929,
     "end_time": "2023-02-09T14:21:07.371773",
     "exception": false,
     "start_time": "2023-02-09T14:21:07.353844",
     "status": "completed"
    },
    "tags": []
   },
   "source": [
    "Locations with less than 10 data points are considered as \"other\" in location which later helps while using one hot encoding to have fewer dummy columns"
   ]
  },
  {
   "cell_type": "code",
   "execution_count": 23,
   "id": "79063403",
   "metadata": {
    "execution": {
     "iopub.execute_input": "2023-02-09T14:21:07.414079Z",
     "iopub.status.busy": "2023-02-09T14:21:07.412699Z",
     "iopub.status.idle": "2023-02-09T14:21:07.424620Z",
     "shell.execute_reply": "2023-02-09T14:21:07.423143Z"
    },
    "papermill": {
     "duration": 0.035702,
     "end_time": "2023-02-09T14:21:07.427872",
     "exception": false,
     "start_time": "2023-02-09T14:21:07.392170",
     "status": "completed"
    },
    "tags": []
   },
   "outputs": [
    {
     "data": {
      "text/plain": [
       "BTM 1st Stage                10\n",
       "Gunjur Palya                 10\n",
       "Nagappa Reddy Layout         10\n",
       "Sector 1 HSR Layout          10\n",
       "Thyagaraja Nagar             10\n",
       "                             ..\n",
       "Rajanna Layout                1\n",
       "Subramanyanagar               1\n",
       "Lakshmipura Vidyaanyapura     1\n",
       "Malur Hosur Road              1\n",
       "Abshot Layout                 1\n",
       "Name: location, Length: 1047, dtype: int64"
      ]
     },
     "execution_count": 23,
     "metadata": {},
     "output_type": "execute_result"
    }
   ],
   "source": [
    "location_under_10=location_stat[location_stat<=10]\n",
    "location_under_10"
   ]
  },
  {
   "cell_type": "code",
   "execution_count": 24,
   "id": "d7c70884",
   "metadata": {
    "execution": {
     "iopub.execute_input": "2023-02-09T14:21:07.468156Z",
     "iopub.status.busy": "2023-02-09T14:21:07.467720Z",
     "iopub.status.idle": "2023-02-09T14:21:07.478604Z",
     "shell.execute_reply": "2023-02-09T14:21:07.477406Z"
    },
    "papermill": {
     "duration": 0.033927,
     "end_time": "2023-02-09T14:21:07.481322",
     "exception": false,
     "start_time": "2023-02-09T14:21:07.447395",
     "status": "completed"
    },
    "tags": []
   },
   "outputs": [
    {
     "data": {
      "text/plain": [
       "1287"
      ]
     },
     "execution_count": 24,
     "metadata": {},
     "output_type": "execute_result"
    }
   ],
   "source": [
    "len(df5['location'].unique())"
   ]
  },
  {
   "cell_type": "code",
   "execution_count": 25,
   "id": "528d0b2d",
   "metadata": {
    "execution": {
     "iopub.execute_input": "2023-02-09T14:21:07.521286Z",
     "iopub.status.busy": "2023-02-09T14:21:07.520830Z",
     "iopub.status.idle": "2023-02-09T14:21:07.550119Z",
     "shell.execute_reply": "2023-02-09T14:21:07.548901Z"
    },
    "papermill": {
     "duration": 0.052289,
     "end_time": "2023-02-09T14:21:07.552653",
     "exception": false,
     "start_time": "2023-02-09T14:21:07.500364",
     "status": "completed"
    },
    "tags": []
   },
   "outputs": [
    {
     "data": {
      "text/plain": [
       "241"
      ]
     },
     "execution_count": 25,
     "metadata": {},
     "output_type": "execute_result"
    }
   ],
   "source": [
    "df5['location']=df5['location'].apply(lambda x: 'other' if x in location_under_10 else x)\n",
    "len(df5['location'].unique())"
   ]
  },
  {
   "cell_type": "code",
   "execution_count": 26,
   "id": "e8d977d7",
   "metadata": {
    "execution": {
     "iopub.execute_input": "2023-02-09T14:21:07.594075Z",
     "iopub.status.busy": "2023-02-09T14:21:07.593427Z",
     "iopub.status.idle": "2023-02-09T14:21:07.610557Z",
     "shell.execute_reply": "2023-02-09T14:21:07.609451Z"
    },
    "papermill": {
     "duration": 0.040711,
     "end_time": "2023-02-09T14:21:07.612911",
     "exception": false,
     "start_time": "2023-02-09T14:21:07.572200",
     "status": "completed"
    },
    "tags": []
   },
   "outputs": [
    {
     "data": {
      "text/html": [
       "<div>\n",
       "<style scoped>\n",
       "    .dataframe tbody tr th:only-of-type {\n",
       "        vertical-align: middle;\n",
       "    }\n",
       "\n",
       "    .dataframe tbody tr th {\n",
       "        vertical-align: top;\n",
       "    }\n",
       "\n",
       "    .dataframe thead th {\n",
       "        text-align: right;\n",
       "    }\n",
       "</style>\n",
       "<table border=\"1\" class=\"dataframe\">\n",
       "  <thead>\n",
       "    <tr style=\"text-align: right;\">\n",
       "      <th></th>\n",
       "      <th>location</th>\n",
       "      <th>size</th>\n",
       "      <th>total_sqft</th>\n",
       "      <th>bath</th>\n",
       "      <th>price</th>\n",
       "      <th>bhk</th>\n",
       "      <th>price_per_sqft</th>\n",
       "    </tr>\n",
       "  </thead>\n",
       "  <tbody>\n",
       "    <tr>\n",
       "      <th>0</th>\n",
       "      <td>Electronic City Phase II</td>\n",
       "      <td>2 BHK</td>\n",
       "      <td>1056.0</td>\n",
       "      <td>2.0</td>\n",
       "      <td>39.07</td>\n",
       "      <td>2</td>\n",
       "      <td>3699.810606</td>\n",
       "    </tr>\n",
       "    <tr>\n",
       "      <th>1</th>\n",
       "      <td>Chikka Tirupathi</td>\n",
       "      <td>4 Bedroom</td>\n",
       "      <td>2600.0</td>\n",
       "      <td>5.0</td>\n",
       "      <td>120.00</td>\n",
       "      <td>4</td>\n",
       "      <td>4615.384615</td>\n",
       "    </tr>\n",
       "    <tr>\n",
       "      <th>2</th>\n",
       "      <td>Uttarahalli</td>\n",
       "      <td>3 BHK</td>\n",
       "      <td>1440.0</td>\n",
       "      <td>2.0</td>\n",
       "      <td>62.00</td>\n",
       "      <td>3</td>\n",
       "      <td>4305.555556</td>\n",
       "    </tr>\n",
       "    <tr>\n",
       "      <th>3</th>\n",
       "      <td>Lingadheeranahalli</td>\n",
       "      <td>3 BHK</td>\n",
       "      <td>1521.0</td>\n",
       "      <td>3.0</td>\n",
       "      <td>95.00</td>\n",
       "      <td>3</td>\n",
       "      <td>6245.890861</td>\n",
       "    </tr>\n",
       "    <tr>\n",
       "      <th>4</th>\n",
       "      <td>Kothanur</td>\n",
       "      <td>2 BHK</td>\n",
       "      <td>1200.0</td>\n",
       "      <td>2.0</td>\n",
       "      <td>51.00</td>\n",
       "      <td>2</td>\n",
       "      <td>4250.000000</td>\n",
       "    </tr>\n",
       "  </tbody>\n",
       "</table>\n",
       "</div>"
      ],
      "text/plain": [
       "                   location       size  total_sqft  bath   price  bhk  \\\n",
       "0  Electronic City Phase II      2 BHK      1056.0   2.0   39.07    2   \n",
       "1          Chikka Tirupathi  4 Bedroom      2600.0   5.0  120.00    4   \n",
       "2               Uttarahalli      3 BHK      1440.0   2.0   62.00    3   \n",
       "3        Lingadheeranahalli      3 BHK      1521.0   3.0   95.00    3   \n",
       "4                  Kothanur      2 BHK      1200.0   2.0   51.00    2   \n",
       "\n",
       "   price_per_sqft  \n",
       "0     3699.810606  \n",
       "1     4615.384615  \n",
       "2     4305.555556  \n",
       "3     6245.890861  \n",
       "4     4250.000000  "
      ]
     },
     "execution_count": 26,
     "metadata": {},
     "output_type": "execute_result"
    }
   ],
   "source": [
    "df5.head(5)"
   ]
  },
  {
   "cell_type": "markdown",
   "id": "900fcfb8",
   "metadata": {
    "papermill": {
     "duration": 0.019365,
     "end_time": "2023-02-09T14:21:07.652248",
     "exception": false,
     "start_time": "2023-02-09T14:21:07.632883",
     "status": "completed"
    },
    "tags": []
   },
   "source": [
    "outlier removal"
   ]
  },
  {
   "cell_type": "code",
   "execution_count": 27,
   "id": "23d9b786",
   "metadata": {
    "execution": {
     "iopub.execute_input": "2023-02-09T14:21:07.692445Z",
     "iopub.status.busy": "2023-02-09T14:21:07.691869Z",
     "iopub.status.idle": "2023-02-09T14:21:07.702486Z",
     "shell.execute_reply": "2023-02-09T14:21:07.701552Z"
    },
    "papermill": {
     "duration": 0.033454,
     "end_time": "2023-02-09T14:21:07.704764",
     "exception": false,
     "start_time": "2023-02-09T14:21:07.671310",
     "status": "completed"
    },
    "tags": []
   },
   "outputs": [
    {
     "data": {
      "text/plain": [
       "744"
      ]
     },
     "execution_count": 27,
     "metadata": {},
     "output_type": "execute_result"
    }
   ],
   "source": [
    "len(df5[df5['total_sqft']/df5['bhk']<300])"
   ]
  },
  {
   "cell_type": "code",
   "execution_count": 28,
   "id": "de9c215b",
   "metadata": {
    "execution": {
     "iopub.execute_input": "2023-02-09T14:21:07.747191Z",
     "iopub.status.busy": "2023-02-09T14:21:07.746733Z",
     "iopub.status.idle": "2023-02-09T14:21:07.753992Z",
     "shell.execute_reply": "2023-02-09T14:21:07.752739Z"
    },
    "papermill": {
     "duration": 0.031677,
     "end_time": "2023-02-09T14:21:07.756465",
     "exception": false,
     "start_time": "2023-02-09T14:21:07.724788",
     "status": "completed"
    },
    "tags": []
   },
   "outputs": [
    {
     "data": {
      "text/plain": [
       "(13200, 7)"
      ]
     },
     "execution_count": 28,
     "metadata": {},
     "output_type": "execute_result"
    }
   ],
   "source": [
    "df5.shape"
   ]
  },
  {
   "cell_type": "markdown",
   "id": "b10c1fcb",
   "metadata": {
    "papermill": {
     "duration": 0.018803,
     "end_time": "2023-02-09T14:21:07.794685",
     "exception": false,
     "start_time": "2023-02-09T14:21:07.775882",
     "status": "completed"
    },
    "tags": []
   },
   "source": [
    "Removal of outliers using business logic"
   ]
  },
  {
   "cell_type": "markdown",
   "id": "d3acf19a",
   "metadata": {
    "papermill": {
     "duration": 0.019033,
     "end_time": "2023-02-09T14:21:07.833324",
     "exception": false,
     "start_time": "2023-02-09T14:21:07.814291",
     "status": "completed"
    },
    "tags": []
   },
   "source": [
    "Usually 300 is the sqft per bedroom i.e for example a 3bhk house with 600 sqft total size seems like an outlier ,hence we remove such outliers."
   ]
  },
  {
   "cell_type": "code",
   "execution_count": 29,
   "id": "bfbcdcdc",
   "metadata": {
    "execution": {
     "iopub.execute_input": "2023-02-09T14:21:07.873875Z",
     "iopub.status.busy": "2023-02-09T14:21:07.873422Z",
     "iopub.status.idle": "2023-02-09T14:21:07.884425Z",
     "shell.execute_reply": "2023-02-09T14:21:07.883256Z"
    },
    "papermill": {
     "duration": 0.034058,
     "end_time": "2023-02-09T14:21:07.886751",
     "exception": false,
     "start_time": "2023-02-09T14:21:07.852693",
     "status": "completed"
    },
    "tags": []
   },
   "outputs": [
    {
     "data": {
      "text/plain": [
       "(12456, 7)"
      ]
     },
     "execution_count": 29,
     "metadata": {},
     "output_type": "execute_result"
    }
   ],
   "source": [
    "df6=df5[~(df5['total_sqft']/df5['bhk']<300)]\n",
    "df6.shape"
   ]
  },
  {
   "cell_type": "markdown",
   "id": "3e94a3e0",
   "metadata": {
    "papermill": {
     "duration": 0.01988,
     "end_time": "2023-02-09T14:21:07.927431",
     "exception": false,
     "start_time": "2023-02-09T14:21:07.907551",
     "status": "completed"
    },
    "tags": []
   },
   "source": [
    "outlier removal using std_dev and mean"
   ]
  },
  {
   "cell_type": "code",
   "execution_count": 30,
   "id": "209408ca",
   "metadata": {
    "execution": {
     "iopub.execute_input": "2023-02-09T14:21:07.967884Z",
     "iopub.status.busy": "2023-02-09T14:21:07.967451Z",
     "iopub.status.idle": "2023-02-09T14:21:07.982198Z",
     "shell.execute_reply": "2023-02-09T14:21:07.980880Z"
    },
    "papermill": {
     "duration": 0.038195,
     "end_time": "2023-02-09T14:21:07.985011",
     "exception": false,
     "start_time": "2023-02-09T14:21:07.946816",
     "status": "completed"
    },
    "tags": []
   },
   "outputs": [
    {
     "data": {
      "text/plain": [
       "count     12456.000000\n",
       "mean       6308.513707\n",
       "std        4168.123545\n",
       "min         267.829813\n",
       "25%        4210.526316\n",
       "50%        5294.117647\n",
       "75%        6916.666667\n",
       "max      176470.588235\n",
       "Name: price_per_sqft, dtype: float64"
      ]
     },
     "execution_count": 30,
     "metadata": {},
     "output_type": "execute_result"
    }
   ],
   "source": [
    "df6['price_per_sqft'].describe()"
   ]
  },
  {
   "cell_type": "code",
   "execution_count": 31,
   "id": "33012b16",
   "metadata": {
    "execution": {
     "iopub.execute_input": "2023-02-09T14:21:08.027333Z",
     "iopub.status.busy": "2023-02-09T14:21:08.025875Z",
     "iopub.status.idle": "2023-02-09T14:21:08.531749Z",
     "shell.execute_reply": "2023-02-09T14:21:08.530468Z"
    },
    "papermill": {
     "duration": 0.529635,
     "end_time": "2023-02-09T14:21:08.534780",
     "exception": false,
     "start_time": "2023-02-09T14:21:08.005145",
     "status": "completed"
    },
    "tags": []
   },
   "outputs": [
    {
     "data": {
      "text/plain": [
       "(10242, 7)"
      ]
     },
     "execution_count": 31,
     "metadata": {},
     "output_type": "execute_result"
    }
   ],
   "source": [
    "def remove_outliers(df):\n",
    "    df_o=pd.DataFrame()\n",
    "    for key,subf in df.groupby('location'):\n",
    "        m=np.mean(subf['price_per_sqft'])\n",
    "        st=np.std(subf['price_per_sqft'])\n",
    "        reduced=subf[(subf['price_per_sqft']>(m-st)) & (subf['price_per_sqft']<=(m+st))]\n",
    "        df_o=pd.concat([df_o,reduced],ignore_index=True)\n",
    "    return df_o\n",
    "df7=remove_outliers(df6)\n",
    "df7.shape\n",
    "        "
   ]
  },
  {
   "cell_type": "code",
   "execution_count": 32,
   "id": "00de71ac",
   "metadata": {
    "execution": {
     "iopub.execute_input": "2023-02-09T14:21:08.577870Z",
     "iopub.status.busy": "2023-02-09T14:21:08.577470Z",
     "iopub.status.idle": "2023-02-09T14:21:08.864361Z",
     "shell.execute_reply": "2023-02-09T14:21:08.863066Z"
    },
    "papermill": {
     "duration": 0.311858,
     "end_time": "2023-02-09T14:21:08.867254",
     "exception": false,
     "start_time": "2023-02-09T14:21:08.555396",
     "status": "completed"
    },
    "tags": []
   },
   "outputs": [
    {
     "data": {
      "image/png": "[encoded data removed]",
      "text/plain": [
       "<Figure size 432x288 with 1 Axes>"
      ]
     },
     "metadata": {
      "needs_background": "light"
     },
     "output_type": "display_data"
    }
   ],
   "source": [
    "def scatter_plot(df,location):\n",
    "    bhk_2=df[(df['location']==location)&(df['bhk']==2)]\n",
    "    bhk_3=df[(df['location']==location)& (df['bhk']==3)]\n",
    "    plt.scatter(bhk_2['total_sqft'],bhk_2['price'],color='blue',label='2 BHK',s=50)\n",
    "    plt.scatter(bhk_3['total_sqft'],bhk_3['price'],color='pink',label='3 BHK',s=50)\n",
    "    plt.xlabel(\"total square feet area\")\n",
    "    plt.ylabel(\"Price(INR)\")\n",
    "    plt.title(location)\n",
    "    plt.legend()\n",
    "    \n",
    "scatter_plot(df7,\"Hebbal\")"
   ]
  },
  {
   "cell_type": "markdown",
   "id": "0797912f",
   "metadata": {
    "papermill": {
     "duration": 0.019785,
     "end_time": "2023-02-09T14:21:08.907482",
     "exception": false,
     "start_time": "2023-02-09T14:21:08.887697",
     "status": "completed"
    },
    "tags": []
   },
   "source": [
    "We can see that in the same location a 2bhk house costs more than a 3bhk house with the same area. So, we create a dictionary of statistics per bhk and remove those 2bhk houses where the price_per_sqft is less than the mean price_per_sqft of 1bhk house"
   ]
  },
  {
   "cell_type": "code",
   "execution_count": 33,
   "id": "5cb9e66c",
   "metadata": {
    "execution": {
     "iopub.execute_input": "2023-02-09T14:21:08.951247Z",
     "iopub.status.busy": "2023-02-09T14:21:08.950589Z",
     "iopub.status.idle": "2023-02-09T14:21:09.696571Z",
     "shell.execute_reply": "2023-02-09T14:21:09.695033Z"
    },
    "papermill": {
     "duration": 0.771489,
     "end_time": "2023-02-09T14:21:09.699859",
     "exception": false,
     "start_time": "2023-02-09T14:21:08.928370",
     "status": "completed"
    },
    "tags": []
   },
   "outputs": [
    {
     "data": {
      "text/plain": [
       "(7317, 7)"
      ]
     },
     "execution_count": 33,
     "metadata": {},
     "output_type": "execute_result"
    }
   ],
   "source": [
    "def remove_bhk_o(df):\n",
    "    exclude_indices=np.array([])\n",
    "    for location,location_df in df.groupby('location'):\n",
    "        bhk_stats={}\n",
    "        for bhk,bhk_df in location_df.groupby('bhk'):\n",
    "            bhk_stats[bhk]={\n",
    "                'mean':np.mean(bhk_df['price_per_sqft']),\n",
    "                'std':np.std(bhk_df['price_per_sqft']),\n",
    "                'count':bhk_df.shape[0]\n",
    "            }\n",
    "        for bhk,bhk_df in location_df.groupby('bhk'):\n",
    "            stats=bhk_stats.get(bhk-1)\n",
    "            if stats and stats['count']>5:\n",
    "                exclude_indices=np.append(exclude_indices,bhk_df[bhk_df.price_per_sqft<(stats['mean'])].index.values)\n",
    "    return df.drop(exclude_indices,axis='index')\n",
    "df8=remove_bhk_o(df7)\n",
    "df8.shape"
   ]
  },
  {
   "cell_type": "code",
   "execution_count": 34,
   "id": "e36c22ec",
   "metadata": {
    "execution": {
     "iopub.execute_input": "2023-02-09T14:21:09.744210Z",
     "iopub.status.busy": "2023-02-09T14:21:09.743445Z",
     "iopub.status.idle": "2023-02-09T14:21:10.002660Z",
     "shell.execute_reply": "2023-02-09T14:21:10.001663Z"
    },
    "papermill": {
     "duration": 0.284406,
     "end_time": "2023-02-09T14:21:10.005196",
     "exception": false,
     "start_time": "2023-02-09T14:21:09.720790",
     "status": "completed"
    },
    "tags": []
   },
   "outputs": [
    {
     "data": {
      "image/png": "[encoded data removed]",
      "text/plain": [
       "<Figure size 432x288 with 1 Axes>"
      ]
     },
     "metadata": {
      "needs_background": "light"
     },
     "output_type": "display_data"
    }
   ],
   "source": [
    "scatter_plot(df8,'Hebbal')"
   ]
  },
  {
   "cell_type": "markdown",
   "id": "f54cff56",
   "metadata": {
    "papermill": {
     "duration": 0.021018,
     "end_time": "2023-02-09T14:21:10.048542",
     "exception": false,
     "start_time": "2023-02-09T14:21:10.027524",
     "status": "completed"
    },
    "tags": []
   },
   "source": []
  },
  {
   "cell_type": "markdown",
   "id": "8d478b4c",
   "metadata": {
    "papermill": {
     "duration": 0.02021,
     "end_time": "2023-02-09T14:21:10.090694",
     "exception": false,
     "start_time": "2023-02-09T14:21:10.070484",
     "status": "completed"
    },
    "tags": []
   },
   "source": [
    "Outlier Removal using Bathrooms Features"
   ]
  },
  {
   "cell_type": "code",
   "execution_count": 35,
   "id": "fc7a8716",
   "metadata": {
    "execution": {
     "iopub.execute_input": "2023-02-09T14:21:10.134536Z",
     "iopub.status.busy": "2023-02-09T14:21:10.133691Z",
     "iopub.status.idle": "2023-02-09T14:21:10.141398Z",
     "shell.execute_reply": "2023-02-09T14:21:10.140259Z"
    },
    "papermill": {
     "duration": 0.032558,
     "end_time": "2023-02-09T14:21:10.144014",
     "exception": false,
     "start_time": "2023-02-09T14:21:10.111456",
     "status": "completed"
    },
    "tags": []
   },
   "outputs": [
    {
     "data": {
      "text/plain": [
       "array([ 4.,  3.,  2.,  5.,  8.,  1.,  6.,  7.,  9., 12., 16., 13.])"
      ]
     },
     "execution_count": 35,
     "metadata": {},
     "output_type": "execute_result"
    }
   ],
   "source": [
    "df8.bath.unique()"
   ]
  },
  {
   "cell_type": "code",
   "execution_count": 36,
   "id": "8007080a",
   "metadata": {
    "execution": {
     "iopub.execute_input": "2023-02-09T14:21:10.187158Z",
     "iopub.status.busy": "2023-02-09T14:21:10.186743Z",
     "iopub.status.idle": "2023-02-09T14:21:10.202532Z",
     "shell.execute_reply": "2023-02-09T14:21:10.201233Z"
    },
    "papermill": {
     "duration": 0.040358,
     "end_time": "2023-02-09T14:21:10.204945",
     "exception": false,
     "start_time": "2023-02-09T14:21:10.164587",
     "status": "completed"
    },
    "tags": []
   },
   "outputs": [
    {
     "data": {
      "text/html": [
       "<div>\n",
       "<style scoped>\n",
       "    .dataframe tbody tr th:only-of-type {\n",
       "        vertical-align: middle;\n",
       "    }\n",
       "\n",
       "    .dataframe tbody tr th {\n",
       "        vertical-align: top;\n",
       "    }\n",
       "\n",
       "    .dataframe thead th {\n",
       "        text-align: right;\n",
       "    }\n",
       "</style>\n",
       "<table border=\"1\" class=\"dataframe\">\n",
       "  <thead>\n",
       "    <tr style=\"text-align: right;\">\n",
       "      <th></th>\n",
       "      <th>location</th>\n",
       "      <th>size</th>\n",
       "      <th>total_sqft</th>\n",
       "      <th>bath</th>\n",
       "      <th>price</th>\n",
       "      <th>bhk</th>\n",
       "      <th>price_per_sqft</th>\n",
       "    </tr>\n",
       "  </thead>\n",
       "  <tbody>\n",
       "    <tr>\n",
       "      <th>5277</th>\n",
       "      <td>Neeladri Nagar</td>\n",
       "      <td>10 BHK</td>\n",
       "      <td>4000.0</td>\n",
       "      <td>12.0</td>\n",
       "      <td>160.0</td>\n",
       "      <td>10</td>\n",
       "      <td>4000.000000</td>\n",
       "    </tr>\n",
       "    <tr>\n",
       "      <th>8483</th>\n",
       "      <td>other</td>\n",
       "      <td>10 BHK</td>\n",
       "      <td>12000.0</td>\n",
       "      <td>12.0</td>\n",
       "      <td>525.0</td>\n",
       "      <td>10</td>\n",
       "      <td>4375.000000</td>\n",
       "    </tr>\n",
       "    <tr>\n",
       "      <th>8572</th>\n",
       "      <td>other</td>\n",
       "      <td>16 BHK</td>\n",
       "      <td>10000.0</td>\n",
       "      <td>16.0</td>\n",
       "      <td>550.0</td>\n",
       "      <td>16</td>\n",
       "      <td>5500.000000</td>\n",
       "    </tr>\n",
       "    <tr>\n",
       "      <th>9306</th>\n",
       "      <td>other</td>\n",
       "      <td>11 BHK</td>\n",
       "      <td>6000.0</td>\n",
       "      <td>12.0</td>\n",
       "      <td>150.0</td>\n",
       "      <td>11</td>\n",
       "      <td>2500.000000</td>\n",
       "    </tr>\n",
       "    <tr>\n",
       "      <th>9637</th>\n",
       "      <td>other</td>\n",
       "      <td>13 BHK</td>\n",
       "      <td>5425.0</td>\n",
       "      <td>13.0</td>\n",
       "      <td>275.0</td>\n",
       "      <td>13</td>\n",
       "      <td>5069.124424</td>\n",
       "    </tr>\n",
       "  </tbody>\n",
       "</table>\n",
       "</div>"
      ],
      "text/plain": [
       "            location    size  total_sqft  bath  price  bhk  price_per_sqft\n",
       "5277  Neeladri Nagar  10 BHK      4000.0  12.0  160.0   10     4000.000000\n",
       "8483           other  10 BHK     12000.0  12.0  525.0   10     4375.000000\n",
       "8572           other  16 BHK     10000.0  16.0  550.0   16     5500.000000\n",
       "9306           other  11 BHK      6000.0  12.0  150.0   11     2500.000000\n",
       "9637           other  13 BHK      5425.0  13.0  275.0   13     5069.124424"
      ]
     },
     "execution_count": 36,
     "metadata": {},
     "output_type": "execute_result"
    }
   ],
   "source": [
    "df8[df8['bath']>10]"
   ]
  },
  {
   "cell_type": "markdown",
   "id": "563210bf",
   "metadata": {
    "papermill": {
     "duration": 0.021011,
     "end_time": "2023-02-09T14:21:10.248030",
     "exception": false,
     "start_time": "2023-02-09T14:21:10.227019",
     "status": "completed"
    },
    "tags": []
   },
   "source": [
    "As it is uncommon to have 2 more bathrooms than the bedrooms in a house we remove those datapoints"
   ]
  },
  {
   "cell_type": "code",
   "execution_count": 37,
   "id": "ea6ca90d",
   "metadata": {
    "execution": {
     "iopub.execute_input": "2023-02-09T14:21:10.291988Z",
     "iopub.status.busy": "2023-02-09T14:21:10.291432Z",
     "iopub.status.idle": "2023-02-09T14:21:10.308369Z",
     "shell.execute_reply": "2023-02-09T14:21:10.307008Z"
    },
    "papermill": {
     "duration": 0.041854,
     "end_time": "2023-02-09T14:21:10.310998",
     "exception": false,
     "start_time": "2023-02-09T14:21:10.269144",
     "status": "completed"
    },
    "tags": []
   },
   "outputs": [
    {
     "data": {
      "text/html": [
       "<div>\n",
       "<style scoped>\n",
       "    .dataframe tbody tr th:only-of-type {\n",
       "        vertical-align: middle;\n",
       "    }\n",
       "\n",
       "    .dataframe tbody tr th {\n",
       "        vertical-align: top;\n",
       "    }\n",
       "\n",
       "    .dataframe thead th {\n",
       "        text-align: right;\n",
       "    }\n",
       "</style>\n",
       "<table border=\"1\" class=\"dataframe\">\n",
       "  <thead>\n",
       "    <tr style=\"text-align: right;\">\n",
       "      <th></th>\n",
       "      <th>location</th>\n",
       "      <th>size</th>\n",
       "      <th>total_sqft</th>\n",
       "      <th>bath</th>\n",
       "      <th>price</th>\n",
       "      <th>bhk</th>\n",
       "      <th>price_per_sqft</th>\n",
       "    </tr>\n",
       "  </thead>\n",
       "  <tbody>\n",
       "    <tr>\n",
       "      <th>1626</th>\n",
       "      <td>Chikkabanavar</td>\n",
       "      <td>4 Bedroom</td>\n",
       "      <td>2460.0</td>\n",
       "      <td>7.0</td>\n",
       "      <td>80.0</td>\n",
       "      <td>4</td>\n",
       "      <td>3252.032520</td>\n",
       "    </tr>\n",
       "    <tr>\n",
       "      <th>5238</th>\n",
       "      <td>Nagasandra</td>\n",
       "      <td>4 Bedroom</td>\n",
       "      <td>7000.0</td>\n",
       "      <td>8.0</td>\n",
       "      <td>450.0</td>\n",
       "      <td>4</td>\n",
       "      <td>6428.571429</td>\n",
       "    </tr>\n",
       "    <tr>\n",
       "      <th>6711</th>\n",
       "      <td>Thanisandra</td>\n",
       "      <td>3 BHK</td>\n",
       "      <td>1806.0</td>\n",
       "      <td>6.0</td>\n",
       "      <td>116.0</td>\n",
       "      <td>3</td>\n",
       "      <td>6423.034330</td>\n",
       "    </tr>\n",
       "    <tr>\n",
       "      <th>8408</th>\n",
       "      <td>other</td>\n",
       "      <td>6 BHK</td>\n",
       "      <td>11338.0</td>\n",
       "      <td>9.0</td>\n",
       "      <td>1000.0</td>\n",
       "      <td>6</td>\n",
       "      <td>8819.897689</td>\n",
       "    </tr>\n",
       "  </tbody>\n",
       "</table>\n",
       "</div>"
      ],
      "text/plain": [
       "           location       size  total_sqft  bath   price  bhk  price_per_sqft\n",
       "1626  Chikkabanavar  4 Bedroom      2460.0   7.0    80.0    4     3252.032520\n",
       "5238     Nagasandra  4 Bedroom      7000.0   8.0   450.0    4     6428.571429\n",
       "6711    Thanisandra      3 BHK      1806.0   6.0   116.0    3     6423.034330\n",
       "8408          other      6 BHK     11338.0   9.0  1000.0    6     8819.897689"
      ]
     },
     "execution_count": 37,
     "metadata": {},
     "output_type": "execute_result"
    }
   ],
   "source": [
    "df8[df8.bath>df8.bhk+2]"
   ]
  },
  {
   "cell_type": "code",
   "execution_count": 38,
   "id": "c5f7035a",
   "metadata": {
    "execution": {
     "iopub.execute_input": "2023-02-09T14:21:10.355607Z",
     "iopub.status.busy": "2023-02-09T14:21:10.355209Z",
     "iopub.status.idle": "2023-02-09T14:21:10.363952Z",
     "shell.execute_reply": "2023-02-09T14:21:10.362956Z"
    },
    "papermill": {
     "duration": 0.033924,
     "end_time": "2023-02-09T14:21:10.366301",
     "exception": false,
     "start_time": "2023-02-09T14:21:10.332377",
     "status": "completed"
    },
    "tags": []
   },
   "outputs": [
    {
     "data": {
      "text/plain": [
       "(7239, 7)"
      ]
     },
     "execution_count": 38,
     "metadata": {},
     "output_type": "execute_result"
    }
   ],
   "source": [
    "df9=df8[df8.bath<df8.bhk+2]\n",
    "df9.shape"
   ]
  },
  {
   "cell_type": "code",
   "execution_count": 39,
   "id": "678e3ae9",
   "metadata": {
    "execution": {
     "iopub.execute_input": "2023-02-09T14:21:10.411605Z",
     "iopub.status.busy": "2023-02-09T14:21:10.410199Z",
     "iopub.status.idle": "2023-02-09T14:21:10.426056Z",
     "shell.execute_reply": "2023-02-09T14:21:10.424727Z"
    },
    "papermill": {
     "duration": 0.040892,
     "end_time": "2023-02-09T14:21:10.428526",
     "exception": false,
     "start_time": "2023-02-09T14:21:10.387634",
     "status": "completed"
    },
    "tags": []
   },
   "outputs": [
    {
     "data": {
      "text/html": [
       "<div>\n",
       "<style scoped>\n",
       "    .dataframe tbody tr th:only-of-type {\n",
       "        vertical-align: middle;\n",
       "    }\n",
       "\n",
       "    .dataframe tbody tr th {\n",
       "        vertical-align: top;\n",
       "    }\n",
       "\n",
       "    .dataframe thead th {\n",
       "        text-align: right;\n",
       "    }\n",
       "</style>\n",
       "<table border=\"1\" class=\"dataframe\">\n",
       "  <thead>\n",
       "    <tr style=\"text-align: right;\">\n",
       "      <th></th>\n",
       "      <th>location</th>\n",
       "      <th>total_sqft</th>\n",
       "      <th>bath</th>\n",
       "      <th>price</th>\n",
       "      <th>bhk</th>\n",
       "    </tr>\n",
       "  </thead>\n",
       "  <tbody>\n",
       "    <tr>\n",
       "      <th>0</th>\n",
       "      <td>1st Block Jayanagar</td>\n",
       "      <td>2850.0</td>\n",
       "      <td>4.0</td>\n",
       "      <td>428.0</td>\n",
       "      <td>4</td>\n",
       "    </tr>\n",
       "    <tr>\n",
       "      <th>1</th>\n",
       "      <td>1st Block Jayanagar</td>\n",
       "      <td>1630.0</td>\n",
       "      <td>3.0</td>\n",
       "      <td>194.0</td>\n",
       "      <td>3</td>\n",
       "    </tr>\n",
       "    <tr>\n",
       "      <th>2</th>\n",
       "      <td>1st Block Jayanagar</td>\n",
       "      <td>1875.0</td>\n",
       "      <td>2.0</td>\n",
       "      <td>235.0</td>\n",
       "      <td>3</td>\n",
       "    </tr>\n",
       "  </tbody>\n",
       "</table>\n",
       "</div>"
      ],
      "text/plain": [
       "              location  total_sqft  bath  price  bhk\n",
       "0  1st Block Jayanagar      2850.0   4.0  428.0    4\n",
       "1  1st Block Jayanagar      1630.0   3.0  194.0    3\n",
       "2  1st Block Jayanagar      1875.0   2.0  235.0    3"
      ]
     },
     "execution_count": 39,
     "metadata": {},
     "output_type": "execute_result"
    }
   ],
   "source": [
    "df10=df9.drop(['size','price_per_sqft'],axis='columns')\n",
    "df10.head(3)"
   ]
  },
  {
   "cell_type": "markdown",
   "id": "b9dabc08",
   "metadata": {
    "papermill": {
     "duration": 0.02123,
     "end_time": "2023-02-09T14:21:10.471756",
     "exception": false,
     "start_time": "2023-02-09T14:21:10.450526",
     "status": "completed"
    },
    "tags": []
   },
   "source": [
    "One Hot Encoding for Location"
   ]
  },
  {
   "cell_type": "code",
   "execution_count": 40,
   "id": "e29629c7",
   "metadata": {
    "execution": {
     "iopub.execute_input": "2023-02-09T14:21:10.516654Z",
     "iopub.status.busy": "2023-02-09T14:21:10.515815Z",
     "iopub.status.idle": "2023-02-09T14:21:10.550019Z",
     "shell.execute_reply": "2023-02-09T14:21:10.548761Z"
    },
    "papermill": {
     "duration": 0.05961,
     "end_time": "2023-02-09T14:21:10.552599",
     "exception": false,
     "start_time": "2023-02-09T14:21:10.492989",
     "status": "completed"
    },
    "tags": []
   },
   "outputs": [
    {
     "data": {
      "text/html": [
       "<div>\n",
       "<style scoped>\n",
       "    .dataframe tbody tr th:only-of-type {\n",
       "        vertical-align: middle;\n",
       "    }\n",
       "\n",
       "    .dataframe tbody tr th {\n",
       "        vertical-align: top;\n",
       "    }\n",
       "\n",
       "    .dataframe thead th {\n",
       "        text-align: right;\n",
       "    }\n",
       "</style>\n",
       "<table border=\"1\" class=\"dataframe\">\n",
       "  <thead>\n",
       "    <tr style=\"text-align: right;\">\n",
       "      <th></th>\n",
       "      <th>1st Block Jayanagar</th>\n",
       "      <th>1st Phase JP Nagar</th>\n",
       "      <th>2nd Phase Judicial Layout</th>\n",
       "      <th>2nd Stage Nagarbhavi</th>\n",
       "      <th>5th Block Hbr Layout</th>\n",
       "      <th>5th Phase JP Nagar</th>\n",
       "      <th>6th Phase JP Nagar</th>\n",
       "      <th>7th Phase JP Nagar</th>\n",
       "      <th>8th Phase JP Nagar</th>\n",
       "      <th>9th Phase JP Nagar</th>\n",
       "      <th>...</th>\n",
       "      <th>Vishveshwarya Layout</th>\n",
       "      <th>Vishwapriya Layout</th>\n",
       "      <th>Vittasandra</th>\n",
       "      <th>Whitefield</th>\n",
       "      <th>Yelachenahalli</th>\n",
       "      <th>Yelahanka</th>\n",
       "      <th>Yelahanka New Town</th>\n",
       "      <th>Yelenahalli</th>\n",
       "      <th>Yeshwanthpur</th>\n",
       "      <th>other</th>\n",
       "    </tr>\n",
       "  </thead>\n",
       "  <tbody>\n",
       "    <tr>\n",
       "      <th>0</th>\n",
       "      <td>1</td>\n",
       "      <td>0</td>\n",
       "      <td>0</td>\n",
       "      <td>0</td>\n",
       "      <td>0</td>\n",
       "      <td>0</td>\n",
       "      <td>0</td>\n",
       "      <td>0</td>\n",
       "      <td>0</td>\n",
       "      <td>0</td>\n",
       "      <td>...</td>\n",
       "      <td>0</td>\n",
       "      <td>0</td>\n",
       "      <td>0</td>\n",
       "      <td>0</td>\n",
       "      <td>0</td>\n",
       "      <td>0</td>\n",
       "      <td>0</td>\n",
       "      <td>0</td>\n",
       "      <td>0</td>\n",
       "      <td>0</td>\n",
       "    </tr>\n",
       "    <tr>\n",
       "      <th>1</th>\n",
       "      <td>1</td>\n",
       "      <td>0</td>\n",
       "      <td>0</td>\n",
       "      <td>0</td>\n",
       "      <td>0</td>\n",
       "      <td>0</td>\n",
       "      <td>0</td>\n",
       "      <td>0</td>\n",
       "      <td>0</td>\n",
       "      <td>0</td>\n",
       "      <td>...</td>\n",
       "      <td>0</td>\n",
       "      <td>0</td>\n",
       "      <td>0</td>\n",
       "      <td>0</td>\n",
       "      <td>0</td>\n",
       "      <td>0</td>\n",
       "      <td>0</td>\n",
       "      <td>0</td>\n",
       "      <td>0</td>\n",
       "      <td>0</td>\n",
       "    </tr>\n",
       "    <tr>\n",
       "      <th>2</th>\n",
       "      <td>1</td>\n",
       "      <td>0</td>\n",
       "      <td>0</td>\n",
       "      <td>0</td>\n",
       "      <td>0</td>\n",
       "      <td>0</td>\n",
       "      <td>0</td>\n",
       "      <td>0</td>\n",
       "      <td>0</td>\n",
       "      <td>0</td>\n",
       "      <td>...</td>\n",
       "      <td>0</td>\n",
       "      <td>0</td>\n",
       "      <td>0</td>\n",
       "      <td>0</td>\n",
       "      <td>0</td>\n",
       "      <td>0</td>\n",
       "      <td>0</td>\n",
       "      <td>0</td>\n",
       "      <td>0</td>\n",
       "      <td>0</td>\n",
       "    </tr>\n",
       "  </tbody>\n",
       "</table>\n",
       "<p>3 rows × 241 columns</p>\n",
       "</div>"
      ],
      "text/plain": [
       "   1st Block Jayanagar  1st Phase JP Nagar  2nd Phase Judicial Layout  \\\n",
       "0                    1                   0                          0   \n",
       "1                    1                   0                          0   \n",
       "2                    1                   0                          0   \n",
       "\n",
       "   2nd Stage Nagarbhavi  5th Block Hbr Layout  5th Phase JP Nagar  \\\n",
       "0                     0                     0                   0   \n",
       "1                     0                     0                   0   \n",
       "2                     0                     0                   0   \n",
       "\n",
       "   6th Phase JP Nagar  7th Phase JP Nagar  8th Phase JP Nagar  \\\n",
       "0                   0                   0                   0   \n",
       "1                   0                   0                   0   \n",
       "2                   0                   0                   0   \n",
       "\n",
       "   9th Phase JP Nagar  ...  Vishveshwarya Layout  Vishwapriya Layout  \\\n",
       "0                   0  ...                     0                   0   \n",
       "1                   0  ...                     0                   0   \n",
       "2                   0  ...                     0                   0   \n",
       "\n",
       "   Vittasandra  Whitefield  Yelachenahalli  Yelahanka  Yelahanka New Town  \\\n",
       "0            0           0               0          0                   0   \n",
       "1            0           0               0          0                   0   \n",
       "2            0           0               0          0                   0   \n",
       "\n",
       "   Yelenahalli  Yeshwanthpur  other  \n",
       "0            0             0      0  \n",
       "1            0             0      0  \n",
       "2            0             0      0  \n",
       "\n",
       "[3 rows x 241 columns]"
      ]
     },
     "execution_count": 40,
     "metadata": {},
     "output_type": "execute_result"
    }
   ],
   "source": [
    "dummies=pd.get_dummies(df10.location)\n",
    "dummies.head(3)"
   ]
  },
  {
   "cell_type": "code",
   "execution_count": 41,
   "id": "bd49f67a",
   "metadata": {
    "execution": {
     "iopub.execute_input": "2023-02-09T14:21:10.599225Z",
     "iopub.status.busy": "2023-02-09T14:21:10.598727Z",
     "iopub.status.idle": "2023-02-09T14:21:10.628669Z",
     "shell.execute_reply": "2023-02-09T14:21:10.627416Z"
    },
    "papermill": {
     "duration": 0.056095,
     "end_time": "2023-02-09T14:21:10.631514",
     "exception": false,
     "start_time": "2023-02-09T14:21:10.575419",
     "status": "completed"
    },
    "tags": []
   },
   "outputs": [
    {
     "data": {
      "text/html": [
       "<div>\n",
       "<style scoped>\n",
       "    .dataframe tbody tr th:only-of-type {\n",
       "        vertical-align: middle;\n",
       "    }\n",
       "\n",
       "    .dataframe tbody tr th {\n",
       "        vertical-align: top;\n",
       "    }\n",
       "\n",
       "    .dataframe thead th {\n",
       "        text-align: right;\n",
       "    }\n",
       "</style>\n",
       "<table border=\"1\" class=\"dataframe\">\n",
       "  <thead>\n",
       "    <tr style=\"text-align: right;\">\n",
       "      <th></th>\n",
       "      <th>location</th>\n",
       "      <th>total_sqft</th>\n",
       "      <th>bath</th>\n",
       "      <th>price</th>\n",
       "      <th>bhk</th>\n",
       "      <th>1st Block Jayanagar</th>\n",
       "      <th>1st Phase JP Nagar</th>\n",
       "      <th>2nd Phase Judicial Layout</th>\n",
       "      <th>2nd Stage Nagarbhavi</th>\n",
       "      <th>5th Block Hbr Layout</th>\n",
       "      <th>...</th>\n",
       "      <th>Vijayanagar</th>\n",
       "      <th>Vishveshwarya Layout</th>\n",
       "      <th>Vishwapriya Layout</th>\n",
       "      <th>Vittasandra</th>\n",
       "      <th>Whitefield</th>\n",
       "      <th>Yelachenahalli</th>\n",
       "      <th>Yelahanka</th>\n",
       "      <th>Yelahanka New Town</th>\n",
       "      <th>Yelenahalli</th>\n",
       "      <th>Yeshwanthpur</th>\n",
       "    </tr>\n",
       "  </thead>\n",
       "  <tbody>\n",
       "    <tr>\n",
       "      <th>0</th>\n",
       "      <td>1st Block Jayanagar</td>\n",
       "      <td>2850.0</td>\n",
       "      <td>4.0</td>\n",
       "      <td>428.0</td>\n",
       "      <td>4</td>\n",
       "      <td>1</td>\n",
       "      <td>0</td>\n",
       "      <td>0</td>\n",
       "      <td>0</td>\n",
       "      <td>0</td>\n",
       "      <td>...</td>\n",
       "      <td>0</td>\n",
       "      <td>0</td>\n",
       "      <td>0</td>\n",
       "      <td>0</td>\n",
       "      <td>0</td>\n",
       "      <td>0</td>\n",
       "      <td>0</td>\n",
       "      <td>0</td>\n",
       "      <td>0</td>\n",
       "      <td>0</td>\n",
       "    </tr>\n",
       "    <tr>\n",
       "      <th>1</th>\n",
       "      <td>1st Block Jayanagar</td>\n",
       "      <td>1630.0</td>\n",
       "      <td>3.0</td>\n",
       "      <td>194.0</td>\n",
       "      <td>3</td>\n",
       "      <td>1</td>\n",
       "      <td>0</td>\n",
       "      <td>0</td>\n",
       "      <td>0</td>\n",
       "      <td>0</td>\n",
       "      <td>...</td>\n",
       "      <td>0</td>\n",
       "      <td>0</td>\n",
       "      <td>0</td>\n",
       "      <td>0</td>\n",
       "      <td>0</td>\n",
       "      <td>0</td>\n",
       "      <td>0</td>\n",
       "      <td>0</td>\n",
       "      <td>0</td>\n",
       "      <td>0</td>\n",
       "    </tr>\n",
       "    <tr>\n",
       "      <th>2</th>\n",
       "      <td>1st Block Jayanagar</td>\n",
       "      <td>1875.0</td>\n",
       "      <td>2.0</td>\n",
       "      <td>235.0</td>\n",
       "      <td>3</td>\n",
       "      <td>1</td>\n",
       "      <td>0</td>\n",
       "      <td>0</td>\n",
       "      <td>0</td>\n",
       "      <td>0</td>\n",
       "      <td>...</td>\n",
       "      <td>0</td>\n",
       "      <td>0</td>\n",
       "      <td>0</td>\n",
       "      <td>0</td>\n",
       "      <td>0</td>\n",
       "      <td>0</td>\n",
       "      <td>0</td>\n",
       "      <td>0</td>\n",
       "      <td>0</td>\n",
       "      <td>0</td>\n",
       "    </tr>\n",
       "    <tr>\n",
       "      <th>3</th>\n",
       "      <td>1st Block Jayanagar</td>\n",
       "      <td>1200.0</td>\n",
       "      <td>2.0</td>\n",
       "      <td>130.0</td>\n",
       "      <td>3</td>\n",
       "      <td>1</td>\n",
       "      <td>0</td>\n",
       "      <td>0</td>\n",
       "      <td>0</td>\n",
       "      <td>0</td>\n",
       "      <td>...</td>\n",
       "      <td>0</td>\n",
       "      <td>0</td>\n",
       "      <td>0</td>\n",
       "      <td>0</td>\n",
       "      <td>0</td>\n",
       "      <td>0</td>\n",
       "      <td>0</td>\n",
       "      <td>0</td>\n",
       "      <td>0</td>\n",
       "      <td>0</td>\n",
       "    </tr>\n",
       "    <tr>\n",
       "      <th>4</th>\n",
       "      <td>1st Block Jayanagar</td>\n",
       "      <td>1235.0</td>\n",
       "      <td>2.0</td>\n",
       "      <td>148.0</td>\n",
       "      <td>2</td>\n",
       "      <td>1</td>\n",
       "      <td>0</td>\n",
       "      <td>0</td>\n",
       "      <td>0</td>\n",
       "      <td>0</td>\n",
       "      <td>...</td>\n",
       "      <td>0</td>\n",
       "      <td>0</td>\n",
       "      <td>0</td>\n",
       "      <td>0</td>\n",
       "      <td>0</td>\n",
       "      <td>0</td>\n",
       "      <td>0</td>\n",
       "      <td>0</td>\n",
       "      <td>0</td>\n",
       "      <td>0</td>\n",
       "    </tr>\n",
       "  </tbody>\n",
       "</table>\n",
       "<p>5 rows × 245 columns</p>\n",
       "</div>"
      ],
      "text/plain": [
       "              location  total_sqft  bath  price  bhk  1st Block Jayanagar  \\\n",
       "0  1st Block Jayanagar      2850.0   4.0  428.0    4                    1   \n",
       "1  1st Block Jayanagar      1630.0   3.0  194.0    3                    1   \n",
       "2  1st Block Jayanagar      1875.0   2.0  235.0    3                    1   \n",
       "3  1st Block Jayanagar      1200.0   2.0  130.0    3                    1   \n",
       "4  1st Block Jayanagar      1235.0   2.0  148.0    2                    1   \n",
       "\n",
       "   1st Phase JP Nagar  2nd Phase Judicial Layout  2nd Stage Nagarbhavi  \\\n",
       "0                   0                          0                     0   \n",
       "1                   0                          0                     0   \n",
       "2                   0                          0                     0   \n",
       "3                   0                          0                     0   \n",
       "4                   0                          0                     0   \n",
       "\n",
       "   5th Block Hbr Layout  ...  Vijayanagar  Vishveshwarya Layout  \\\n",
       "0                     0  ...            0                     0   \n",
       "1                     0  ...            0                     0   \n",
       "2                     0  ...            0                     0   \n",
       "3                     0  ...            0                     0   \n",
       "4                     0  ...            0                     0   \n",
       "\n",
       "   Vishwapriya Layout  Vittasandra  Whitefield  Yelachenahalli  Yelahanka  \\\n",
       "0                   0            0           0               0          0   \n",
       "1                   0            0           0               0          0   \n",
       "2                   0            0           0               0          0   \n",
       "3                   0            0           0               0          0   \n",
       "4                   0            0           0               0          0   \n",
       "\n",
       "   Yelahanka New Town  Yelenahalli  Yeshwanthpur  \n",
       "0                   0            0             0  \n",
       "1                   0            0             0  \n",
       "2                   0            0             0  \n",
       "3                   0            0             0  \n",
       "4                   0            0             0  \n",
       "\n",
       "[5 rows x 245 columns]"
      ]
     },
     "execution_count": 41,
     "metadata": {},
     "output_type": "execute_result"
    }
   ],
   "source": [
    "df11=pd.concat([df10,dummies.drop('other',axis='columns')],axis='columns')\n",
    "df11.head()"
   ]
  },
  {
   "cell_type": "code",
   "execution_count": 42,
   "id": "ed2abeca",
   "metadata": {
    "execution": {
     "iopub.execute_input": "2023-02-09T14:21:10.677621Z",
     "iopub.status.busy": "2023-02-09T14:21:10.677211Z",
     "iopub.status.idle": "2023-02-09T14:21:10.691957Z",
     "shell.execute_reply": "2023-02-09T14:21:10.690309Z"
    },
    "papermill": {
     "duration": 0.040939,
     "end_time": "2023-02-09T14:21:10.694880",
     "exception": false,
     "start_time": "2023-02-09T14:21:10.653941",
     "status": "completed"
    },
    "tags": []
   },
   "outputs": [
    {
     "data": {
      "text/plain": [
       "(7239, 244)"
      ]
     },
     "execution_count": 42,
     "metadata": {},
     "output_type": "execute_result"
    }
   ],
   "source": [
    "df12=df11.drop('location',axis='columns')\n",
    "df12.shape"
   ]
  },
  {
   "cell_type": "code",
   "execution_count": 43,
   "id": "45525f84",
   "metadata": {
    "execution": {
     "iopub.execute_input": "2023-02-09T14:21:10.742601Z",
     "iopub.status.busy": "2023-02-09T14:21:10.742207Z",
     "iopub.status.idle": "2023-02-09T14:21:10.753938Z",
     "shell.execute_reply": "2023-02-09T14:21:10.752510Z"
    },
    "papermill": {
     "duration": 0.038805,
     "end_time": "2023-02-09T14:21:10.756249",
     "exception": false,
     "start_time": "2023-02-09T14:21:10.717444",
     "status": "completed"
    },
    "tags": []
   },
   "outputs": [
    {
     "data": {
      "text/plain": [
       "(7239, 243)"
      ]
     },
     "execution_count": 43,
     "metadata": {},
     "output_type": "execute_result"
    }
   ],
   "source": [
    "X=df12.drop(['price'],axis='columns')\n",
    "X.shape"
   ]
  },
  {
   "cell_type": "code",
   "execution_count": 44,
   "id": "7a0bc8da",
   "metadata": {
    "execution": {
     "iopub.execute_input": "2023-02-09T14:21:10.803547Z",
     "iopub.status.busy": "2023-02-09T14:21:10.803013Z",
     "iopub.status.idle": "2023-02-09T14:21:10.810604Z",
     "shell.execute_reply": "2023-02-09T14:21:10.809218Z"
    },
    "papermill": {
     "duration": 0.033856,
     "end_time": "2023-02-09T14:21:10.813180",
     "exception": false,
     "start_time": "2023-02-09T14:21:10.779324",
     "status": "completed"
    },
    "tags": []
   },
   "outputs": [
    {
     "data": {
      "text/plain": [
       "(7239,)"
      ]
     },
     "execution_count": 44,
     "metadata": {},
     "output_type": "execute_result"
    }
   ],
   "source": [
    "Y=df12['price']\n",
    "Y.shape"
   ]
  },
  {
   "cell_type": "code",
   "execution_count": 45,
   "id": "5586ea06",
   "metadata": {
    "execution": {
     "iopub.execute_input": "2023-02-09T14:21:10.859451Z",
     "iopub.status.busy": "2023-02-09T14:21:10.859004Z",
     "iopub.status.idle": "2023-02-09T14:21:10.867477Z",
     "shell.execute_reply": "2023-02-09T14:21:10.866503Z"
    },
    "papermill": {
     "duration": 0.034006,
     "end_time": "2023-02-09T14:21:10.869547",
     "exception": false,
     "start_time": "2023-02-09T14:21:10.835541",
     "status": "completed"
    },
    "tags": []
   },
   "outputs": [
    {
     "data": {
      "text/plain": [
       "0    428.0\n",
       "1    194.0\n",
       "2    235.0\n",
       "Name: price, dtype: float64"
      ]
     },
     "execution_count": 45,
     "metadata": {},
     "output_type": "execute_result"
    }
   ],
   "source": [
    "Y.head(3)"
   ]
  },
  {
   "cell_type": "markdown",
   "id": "1d3a3e85",
   "metadata": {
    "papermill": {
     "duration": 0.022084,
     "end_time": "2023-02-09T14:21:10.914466",
     "exception": false,
     "start_time": "2023-02-09T14:21:10.892382",
     "status": "completed"
    },
    "tags": []
   },
   "source": [
    "Training the model"
   ]
  },
  {
   "cell_type": "code",
   "execution_count": 46,
   "id": "f4144fbd",
   "metadata": {
    "execution": {
     "iopub.execute_input": "2023-02-09T14:21:10.962658Z",
     "iopub.status.busy": "2023-02-09T14:21:10.962268Z",
     "iopub.status.idle": "2023-02-09T14:21:12.235089Z",
     "shell.execute_reply": "2023-02-09T14:21:12.233829Z"
    },
    "papermill": {
     "duration": 1.300223,
     "end_time": "2023-02-09T14:21:12.237870",
     "exception": false,
     "start_time": "2023-02-09T14:21:10.937647",
     "status": "completed"
    },
    "tags": []
   },
   "outputs": [],
   "source": [
    "import sklearn\n",
    "from sklearn.model_selection import train_test_split\n",
    "X_train,X_test,Y_train,Y_test=train_test_split(X,Y,test_size=0.2,random_state=10)"
   ]
  },
  {
   "cell_type": "code",
   "execution_count": 47,
   "id": "d3da4d9d",
   "metadata": {
    "execution": {
     "iopub.execute_input": "2023-02-09T14:21:12.284327Z",
     "iopub.status.busy": "2023-02-09T14:21:12.283888Z",
     "iopub.status.idle": "2023-02-09T14:21:12.528706Z",
     "shell.execute_reply": "2023-02-09T14:21:12.527303Z"
    },
    "papermill": {
     "duration": 0.272623,
     "end_time": "2023-02-09T14:21:12.533102",
     "exception": false,
     "start_time": "2023-02-09T14:21:12.260479",
     "status": "completed"
    },
    "tags": []
   },
   "outputs": [
    {
     "data": {
      "text/plain": [
       "0.8629147404929288"
      ]
     },
     "execution_count": 47,
     "metadata": {},
     "output_type": "execute_result"
    }
   ],
   "source": [
    "from sklearn.linear_model import LinearRegression\n",
    "reg=LinearRegression()\n",
    "reg.fit(X_train,Y_train)\n",
    "reg.score(X_test,Y_test)"
   ]
  },
  {
   "cell_type": "markdown",
   "id": "04f81fd2",
   "metadata": {
    "papermill": {
     "duration": 0.026932,
     "end_time": "2023-02-09T14:21:12.661014",
     "exception": false,
     "start_time": "2023-02-09T14:21:12.634082",
     "status": "completed"
    },
    "tags": []
   },
   "source": [
    "KFold Validation for accuracy Measurement"
   ]
  },
  {
   "cell_type": "code",
   "execution_count": 48,
   "id": "3a63f3f8",
   "metadata": {
    "execution": {
     "iopub.execute_input": "2023-02-09T14:21:12.706931Z",
     "iopub.status.busy": "2023-02-09T14:21:12.706519Z",
     "iopub.status.idle": "2023-02-09T14:21:13.621578Z",
     "shell.execute_reply": "2023-02-09T14:21:13.620058Z"
    },
    "papermill": {
     "duration": 0.943285,
     "end_time": "2023-02-09T14:21:13.626512",
     "exception": false,
     "start_time": "2023-02-09T14:21:12.683227",
     "status": "completed"
    },
    "tags": []
   },
   "outputs": [
    {
     "data": {
      "text/plain": [
       "array([0.82702542, 0.86026887, 0.85322205, 0.8436467 , 0.85481614])"
      ]
     },
     "execution_count": 48,
     "metadata": {},
     "output_type": "execute_result"
    }
   ],
   "source": [
    "from sklearn.model_selection import ShuffleSplit\n",
    "from sklearn.model_selection import cross_val_score\n",
    "\n",
    "cv=ShuffleSplit(n_splits=5,test_size=0.2,random_state=0)\n",
    "cross_val_score(LinearRegression(),X,Y,cv=cv)"
   ]
  },
  {
   "cell_type": "markdown",
   "id": "226e8bd4",
   "metadata": {
    "papermill": {
     "duration": 0.021939,
     "end_time": "2023-02-09T14:21:13.749830",
     "exception": false,
     "start_time": "2023-02-09T14:21:13.727891",
     "status": "completed"
    },
    "tags": []
   },
   "source": [
    "GridSearchCV to find the best Model"
   ]
  },
  {
   "cell_type": "code",
   "execution_count": 49,
   "id": "ece834b4",
   "metadata": {
    "execution": {
     "iopub.execute_input": "2023-02-09T14:21:13.796166Z",
     "iopub.status.busy": "2023-02-09T14:21:13.795732Z",
     "iopub.status.idle": "2023-02-09T14:21:22.354891Z",
     "shell.execute_reply": "2023-02-09T14:21:22.353539Z"
    },
    "papermill": {
     "duration": 8.585611,
     "end_time": "2023-02-09T14:21:22.357601",
     "exception": false,
     "start_time": "2023-02-09T14:21:13.771990",
     "status": "completed"
    },
    "tags": []
   },
   "outputs": [
    {
     "name": "stderr",
     "output_type": "stream",
     "text": [
      "/opt/conda/lib/python3.7/site-packages/sklearn/linear_model/_base.py:145: FutureWarning: 'normalize' was deprecated in version 1.0 and will be removed in 1.2.\n",
      "If you wish to scale the data, use Pipeline with a StandardScaler in a preprocessing stage. To reproduce the previous behavior:\n",
      "\n",
      "from sklearn.pipeline import make_pipeline\n",
      "\n",
      "model = make_pipeline(StandardScaler(with_mean=False), LinearRegression())\n",
      "\n",
      "If you wish to pass a sample_weight parameter, you need to pass it as a fit parameter to each step of the pipeline as follows:\n",
      "\n",
      "kwargs = {s[0] + '__sample_weight': sample_weight for s in model.steps}\n",
      "model.fit(X, y, **kwargs)\n",
      "\n",
      "\n",
      "  FutureWarning,\n",
      "/opt/conda/lib/python3.7/site-packages/sklearn/linear_model/_base.py:145: FutureWarning: 'normalize' was deprecated in version 1.0 and will be removed in 1.2.\n",
      "If you wish to scale the data, use Pipeline with a StandardScaler in a preprocessing stage. To reproduce the previous behavior:\n",
      "\n",
      "from sklearn.pipeline import make_pipeline\n",
      "\n",
      "model = make_pipeline(StandardScaler(with_mean=False), LinearRegression())\n",
      "\n",
      "If you wish to pass a sample_weight parameter, you need to pass it as a fit parameter to each step of the pipeline as follows:\n",
      "\n",
      "kwargs = {s[0] + '__sample_weight': sample_weight for s in model.steps}\n",
      "model.fit(X, y, **kwargs)\n",
      "\n",
      "\n",
      "  FutureWarning,\n",
      "/opt/conda/lib/python3.7/site-packages/sklearn/linear_model/_base.py:145: FutureWarning: 'normalize' was deprecated in version 1.0 and will be removed in 1.2.\n",
      "If you wish to scale the data, use Pipeline with a StandardScaler in a preprocessing stage. To reproduce the previous behavior:\n",
      "\n",
      "from sklearn.pipeline import make_pipeline\n",
      "\n",
      "model = make_pipeline(StandardScaler(with_mean=False), LinearRegression())\n",
      "\n",
      "If you wish to pass a sample_weight parameter, you need to pass it as a fit parameter to each step of the pipeline as follows:\n",
      "\n",
      "kwargs = {s[0] + '__sample_weight': sample_weight for s in model.steps}\n",
      "model.fit(X, y, **kwargs)\n",
      "\n",
      "\n",
      "  FutureWarning,\n",
      "/opt/conda/lib/python3.7/site-packages/sklearn/linear_model/_base.py:145: FutureWarning: 'normalize' was deprecated in version 1.0 and will be removed in 1.2.\n",
      "If you wish to scale the data, use Pipeline with a StandardScaler in a preprocessing stage. To reproduce the previous behavior:\n",
      "\n",
      "from sklearn.pipeline import make_pipeline\n",
      "\n",
      "model = make_pipeline(StandardScaler(with_mean=False), LinearRegression())\n",
      "\n",
      "If you wish to pass a sample_weight parameter, you need to pass it as a fit parameter to each step of the pipeline as follows:\n",
      "\n",
      "kwargs = {s[0] + '__sample_weight': sample_weight for s in model.steps}\n",
      "model.fit(X, y, **kwargs)\n",
      "\n",
      "\n",
      "  FutureWarning,\n",
      "/opt/conda/lib/python3.7/site-packages/sklearn/linear_model/_base.py:145: FutureWarning: 'normalize' was deprecated in version 1.0 and will be removed in 1.2.\n",
      "If you wish to scale the data, use Pipeline with a StandardScaler in a preprocessing stage. To reproduce the previous behavior:\n",
      "\n",
      "from sklearn.pipeline import make_pipeline\n",
      "\n",
      "model = make_pipeline(StandardScaler(with_mean=False), LinearRegression())\n",
      "\n",
      "If you wish to pass a sample_weight parameter, you need to pass it as a fit parameter to each step of the pipeline as follows:\n",
      "\n",
      "kwargs = {s[0] + '__sample_weight': sample_weight for s in model.steps}\n",
      "model.fit(X, y, **kwargs)\n",
      "\n",
      "\n",
      "  FutureWarning,\n",
      "/opt/conda/lib/python3.7/site-packages/sklearn/linear_model/_base.py:155: FutureWarning: 'normalize' was deprecated in version 1.0 and will be removed in 1.2. Please leave the normalize parameter to its default value to silence this warning. The default behavior of this estimator is to not do any normalization. If normalization is needed please use sklearn.preprocessing.StandardScaler instead.\n",
      "  FutureWarning,\n",
      "/opt/conda/lib/python3.7/site-packages/sklearn/linear_model/_base.py:155: FutureWarning: 'normalize' was deprecated in version 1.0 and will be removed in 1.2. Please leave the normalize parameter to its default value to silence this warning. The default behavior of this estimator is to not do any normalization. If normalization is needed please use sklearn.preprocessing.StandardScaler instead.\n",
      "  FutureWarning,\n",
      "/opt/conda/lib/python3.7/site-packages/sklearn/linear_model/_base.py:155: FutureWarning: 'normalize' was deprecated in version 1.0 and will be removed in 1.2. Please leave the normalize parameter to its default value to silence this warning. The default behavior of this estimator is to not do any normalization. If normalization is needed please use sklearn.preprocessing.StandardScaler instead.\n",
      "  FutureWarning,\n",
      "/opt/conda/lib/python3.7/site-packages/sklearn/linear_model/_base.py:155: FutureWarning: 'normalize' was deprecated in version 1.0 and will be removed in 1.2. Please leave the normalize parameter to its default value to silence this warning. The default behavior of this estimator is to not do any normalization. If normalization is needed please use sklearn.preprocessing.StandardScaler instead.\n",
      "  FutureWarning,\n",
      "/opt/conda/lib/python3.7/site-packages/sklearn/linear_model/_base.py:155: FutureWarning: 'normalize' was deprecated in version 1.0 and will be removed in 1.2. Please leave the normalize parameter to its default value to silence this warning. The default behavior of this estimator is to not do any normalization. If normalization is needed please use sklearn.preprocessing.StandardScaler instead.\n",
      "  FutureWarning,\n",
      "/opt/conda/lib/python3.7/site-packages/sklearn/linear_model/_base.py:155: FutureWarning: 'normalize' was deprecated in version 1.0 and will be removed in 1.2. Please leave the normalize parameter to its default value to silence this warning. The default behavior of this estimator is to not do any normalization. If normalization is needed please use sklearn.preprocessing.StandardScaler instead.\n",
      "  FutureWarning,\n",
      "/opt/conda/lib/python3.7/site-packages/sklearn/tree/_classes.py:363: FutureWarning: Criterion 'mse' was deprecated in v1.0 and will be removed in version 1.2. Use `criterion='squared_error'` which is equivalent.\n",
      "  FutureWarning,\n",
      "/opt/conda/lib/python3.7/site-packages/sklearn/tree/_classes.py:363: FutureWarning: Criterion 'mse' was deprecated in v1.0 and will be removed in version 1.2. Use `criterion='squared_error'` which is equivalent.\n",
      "  FutureWarning,\n",
      "/opt/conda/lib/python3.7/site-packages/sklearn/tree/_classes.py:363: FutureWarning: Criterion 'mse' was deprecated in v1.0 and will be removed in version 1.2. Use `criterion='squared_error'` which is equivalent.\n",
      "  FutureWarning,\n",
      "/opt/conda/lib/python3.7/site-packages/sklearn/tree/_classes.py:363: FutureWarning: Criterion 'mse' was deprecated in v1.0 and will be removed in version 1.2. Use `criterion='squared_error'` which is equivalent.\n",
      "  FutureWarning,\n",
      "/opt/conda/lib/python3.7/site-packages/sklearn/tree/_classes.py:363: FutureWarning: Criterion 'mse' was deprecated in v1.0 and will be removed in version 1.2. Use `criterion='squared_error'` which is equivalent.\n",
      "  FutureWarning,\n",
      "/opt/conda/lib/python3.7/site-packages/sklearn/tree/_classes.py:363: FutureWarning: Criterion 'mse' was deprecated in v1.0 and will be removed in version 1.2. Use `criterion='squared_error'` which is equivalent.\n",
      "  FutureWarning,\n",
      "/opt/conda/lib/python3.7/site-packages/sklearn/tree/_classes.py:363: FutureWarning: Criterion 'mse' was deprecated in v1.0 and will be removed in version 1.2. Use `criterion='squared_error'` which is equivalent.\n",
      "  FutureWarning,\n",
      "/opt/conda/lib/python3.7/site-packages/sklearn/tree/_classes.py:363: FutureWarning: Criterion 'mse' was deprecated in v1.0 and will be removed in version 1.2. Use `criterion='squared_error'` which is equivalent.\n",
      "  FutureWarning,\n",
      "/opt/conda/lib/python3.7/site-packages/sklearn/tree/_classes.py:363: FutureWarning: Criterion 'mse' was deprecated in v1.0 and will be removed in version 1.2. Use `criterion='squared_error'` which is equivalent.\n",
      "  FutureWarning,\n",
      "/opt/conda/lib/python3.7/site-packages/sklearn/tree/_classes.py:363: FutureWarning: Criterion 'mse' was deprecated in v1.0 and will be removed in version 1.2. Use `criterion='squared_error'` which is equivalent.\n",
      "  FutureWarning,\n"
     ]
    },
    {
     "data": {
      "text/html": [
       "<div>\n",
       "<style scoped>\n",
       "    .dataframe tbody tr th:only-of-type {\n",
       "        vertical-align: middle;\n",
       "    }\n",
       "\n",
       "    .dataframe tbody tr th {\n",
       "        vertical-align: top;\n",
       "    }\n",
       "\n",
       "    .dataframe thead th {\n",
       "        text-align: right;\n",
       "    }\n",
       "</style>\n",
       "<table border=\"1\" class=\"dataframe\">\n",
       "  <thead>\n",
       "    <tr style=\"text-align: right;\">\n",
       "      <th></th>\n",
       "      <th>model</th>\n",
       "      <th>best_score</th>\n",
       "      <th>best_params</th>\n",
       "    </tr>\n",
       "  </thead>\n",
       "  <tbody>\n",
       "    <tr>\n",
       "      <th>0</th>\n",
       "      <td>linear_regression</td>\n",
       "      <td>0.847796</td>\n",
       "      <td>{'normalize': False}</td>\n",
       "    </tr>\n",
       "    <tr>\n",
       "      <th>1</th>\n",
       "      <td>lasso</td>\n",
       "      <td>0.726872</td>\n",
       "      <td>{'alpha': 2, 'selection': 'random'}</td>\n",
       "    </tr>\n",
       "    <tr>\n",
       "      <th>2</th>\n",
       "      <td>decision_tree</td>\n",
       "      <td>0.708486</td>\n",
       "      <td>{'criterion': 'friedman_mse', 'splitter': 'best'}</td>\n",
       "    </tr>\n",
       "  </tbody>\n",
       "</table>\n",
       "</div>"
      ],
      "text/plain": [
       "               model  best_score  \\\n",
       "0  linear_regression    0.847796   \n",
       "1              lasso    0.726872   \n",
       "2      decision_tree    0.708486   \n",
       "\n",
       "                                         best_params  \n",
       "0                               {'normalize': False}  \n",
       "1                {'alpha': 2, 'selection': 'random'}  \n",
       "2  {'criterion': 'friedman_mse', 'splitter': 'best'}  "
      ]
     },
     "execution_count": 49,
     "metadata": {},
     "output_type": "execute_result"
    }
   ],
   "source": [
    "from sklearn.model_selection import GridSearchCV\n",
    "from sklearn.linear_model import Lasso\n",
    "from sklearn.tree import DecisionTreeRegressor\n",
    "def find_best_model(X,Y):\n",
    "    algos={\n",
    "        'linear_regression':{\n",
    "            'model':LinearRegression(),\n",
    "            'params':{\n",
    "                'normalize':[True,False]\n",
    "            }\n",
    "        },\n",
    "        'lasso':{\n",
    "            'model':Lasso(),\n",
    "            'params':{\n",
    "                'alpha':[1,2],\n",
    "                'selection':['random','cyclic']\n",
    "            }\n",
    "        },\n",
    "        'decision_tree':{\n",
    "            'model':DecisionTreeRegressor(),\n",
    "            'params':{\n",
    "                'criterion':['mse','friedman_mse'],\n",
    "                'splitter':['best','random']\n",
    "            }\n",
    "        }\n",
    "    }\n",
    "    scores=[]\n",
    "    cv=ShuffleSplit(n_splits=5,test_size=0.2,random_state=0)\n",
    "    for algo_name , config in algos.items():\n",
    "        gs=GridSearchCV(config['model'],config['params'],cv=cv,return_train_score=False)\n",
    "        gs.fit(X,Y)\n",
    "        scores.append({\n",
    "            'model':algo_name,\n",
    "            'best_score':gs.best_score_,\n",
    "            'best_params':gs.best_params_\n",
    "        })\n",
    "        \n",
    "    return pd.DataFrame(scores,columns=['model','best_score','best_params'])\n",
    "find_best_model(X,Y)"
   ]
  },
  {
   "cell_type": "code",
   "execution_count": 50,
   "id": "e6d912be",
   "metadata": {
    "execution": {
     "iopub.execute_input": "2023-02-09T14:21:22.407678Z",
     "iopub.status.busy": "2023-02-09T14:21:22.407259Z",
     "iopub.status.idle": "2023-02-09T14:21:22.415333Z",
     "shell.execute_reply": "2023-02-09T14:21:22.413726Z"
    },
    "papermill": {
     "duration": 0.036616,
     "end_time": "2023-02-09T14:21:22.418149",
     "exception": false,
     "start_time": "2023-02-09T14:21:22.381533",
     "status": "completed"
    },
    "tags": []
   },
   "outputs": [],
   "source": [
    "def predict_price(location,sqft,bath,bhk):\n",
    "    loc_index=np.where(X.columns==location)[0][0]\n",
    "    x=np.zeros(len(X.columns))\n",
    "    x[0]=sqft\n",
    "    x[1]=bath\n",
    "    x[2]=bhk\n",
    "    if loc_index>=0:\n",
    "        x[loc_index]=1\n",
    "    return reg.predict([x])[0]"
   ]
  },
  {
   "cell_type": "markdown",
   "id": "85164fb9",
   "metadata": {
    "papermill": {
     "duration": 0.023347,
     "end_time": "2023-02-09T14:21:22.465198",
     "exception": false,
     "start_time": "2023-02-09T14:21:22.441851",
     "status": "completed"
    },
    "tags": []
   },
   "source": [
    "Test for some values\n"
   ]
  },
  {
   "cell_type": "code",
   "execution_count": 51,
   "id": "d8cad669",
   "metadata": {
    "execution": {
     "iopub.execute_input": "2023-02-09T14:21:22.515478Z",
     "iopub.status.busy": "2023-02-09T14:21:22.515057Z",
     "iopub.status.idle": "2023-02-09T14:21:22.526706Z",
     "shell.execute_reply": "2023-02-09T14:21:22.525299Z"
    },
    "papermill": {
     "duration": 0.039615,
     "end_time": "2023-02-09T14:21:22.529232",
     "exception": false,
     "start_time": "2023-02-09T14:21:22.489617",
     "status": "completed"
    },
    "tags": []
   },
   "outputs": [
    {
     "name": "stderr",
     "output_type": "stream",
     "text": [
      "/opt/conda/lib/python3.7/site-packages/sklearn/base.py:451: UserWarning: X does not have valid feature names, but LinearRegression was fitted with feature names\n",
      "  \"X does not have valid feature names, but\"\n"
     ]
    },
    {
     "data": {
      "text/plain": [
       "88.58712713802684"
      ]
     },
     "execution_count": 51,
     "metadata": {},
     "output_type": "execute_result"
    }
   ],
   "source": [
    "predict_price('Hebbal',1200,3,3)"
   ]
  },
  {
   "cell_type": "markdown",
   "id": "2d9ac75c",
   "metadata": {
    "papermill": {
     "duration": 0.023404,
     "end_time": "2023-02-09T14:21:22.576980",
     "exception": false,
     "start_time": "2023-02-09T14:21:22.553576",
     "status": "completed"
    },
    "tags": []
   },
   "source": [
    "Export the tested model"
   ]
  },
  {
   "cell_type": "code",
   "execution_count": 52,
   "id": "8b5c94cc",
   "metadata": {
    "execution": {
     "iopub.execute_input": "2023-02-09T14:21:22.625698Z",
     "iopub.status.busy": "2023-02-09T14:21:22.625279Z",
     "iopub.status.idle": "2023-02-09T14:21:22.631649Z",
     "shell.execute_reply": "2023-02-09T14:21:22.630425Z"
    },
    "papermill": {
     "duration": 0.033689,
     "end_time": "2023-02-09T14:21:22.634192",
     "exception": false,
     "start_time": "2023-02-09T14:21:22.600503",
     "status": "completed"
    },
    "tags": []
   },
   "outputs": [],
   "source": [
    "import pickle\n",
    "with open('bangalore_home_price_prediction.pickle','wb') as f:\n",
    "    pickle.dump(reg,f)"
   ]
  },
  {
   "cell_type": "markdown",
   "id": "b61db6e1",
   "metadata": {
    "papermill": {
     "duration": 0.023815,
     "end_time": "2023-02-09T14:21:22.682202",
     "exception": false,
     "start_time": "2023-02-09T14:21:22.658387",
     "status": "completed"
    },
    "tags": []
   },
   "source": [
    "Export location and column information to a file that will be useful later on in our prediction application"
   ]
  },
  {
   "cell_type": "code",
   "execution_count": 53,
   "id": "1685ae90",
   "metadata": {
    "execution": {
     "iopub.execute_input": "2023-02-09T14:21:22.732099Z",
     "iopub.status.busy": "2023-02-09T14:21:22.731691Z",
     "iopub.status.idle": "2023-02-09T14:21:22.738502Z",
     "shell.execute_reply": "2023-02-09T14:21:22.737320Z"
    },
    "papermill": {
     "duration": 0.034916,
     "end_time": "2023-02-09T14:21:22.741398",
     "exception": false,
     "start_time": "2023-02-09T14:21:22.706482",
     "status": "completed"
    },
    "tags": []
   },
   "outputs": [],
   "source": [
    "import json\n",
    "columns={\n",
    "    'data_columns':[col.lower() for col in X.columns]\n",
    "}\n",
    "with open(\"columns.json\",'w') as f:\n",
    "    f.write(json.dumps(columns))\n"
   ]
  }
 ],
 "metadata": {
  "kernelspec": {
   "display_name": "Python 3",
   "language": "python",
   "name": "python3"
  },
  "language_info": {
   "codemirror_mode": {
    "name": "ipython",
    "version": 3
   },
   "file_extension": ".py",
   "mimetype": "text/x-python",
   "name": "python",
   "nbconvert_exporter": "python",
   "pygments_lexer": "ipython3",
   "version": "3.7.12"
  },
  "papermill": {
   "default_parameters": {},
   "duration": 27.089421,
   "end_time": "2023-02-09T14:21:23.589606",
   "environment_variables": {},
   "exception": null,
   "input_path": "__notebook__.ipynb",
   "output_path": "__notebook__.ipynb",
   "parameters": {},
   "start_time": "2023-02-09T14:20:56.500185",
   "version": "2.3.4"
  }
 },
 "nbformat": 4,
 "nbformat_minor": 5
}
